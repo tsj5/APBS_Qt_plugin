{
 "cells": [
  {
   "cell_type": "markdown",
   "id": "27963715-33e1-479d-a66b-6e48d01f034c",
   "metadata": {},
   "source": [
    "## Imports"
   ]
  },
  {
   "cell_type": "code",
   "execution_count": 1,
   "id": "fb57539e-fc1a-488d-b6d2-94f5f3c62a6a",
   "metadata": {},
   "outputs": [],
   "source": [
    "from pymol.Qt import QtCore\n",
    "import attrs\n",
    "import os\n",
    "import pathlib\n",
    "from typing import Iterable\n",
    "import functools\n",
    "import enum\n",
    "\n",
    "PYQT_SIGNAL = QtCore.pyqtSignal\n",
    "PYQT_SLOT = QtCore.pyqtSlot\n",
    "PYQT_OBJECT = QtCore.QObject"
   ]
  },
  {
   "cell_type": "markdown",
   "id": "4b4eed24-1c74-4628-b878-a114123a1b48",
   "metadata": {},
   "source": [
    "## Dynamically generated signals"
   ]
  },
  {
   "cell_type": "markdown",
   "id": "0720ba00-5ae6-4932-96d5-242ff6195f48",
   "metadata": {
    "tags": []
   },
   "source": [
    "### Introspection"
   ]
  },
  {
   "cell_type": "code",
   "execution_count": null,
   "id": "5a76ed90-9258-45d8-975b-9de451c5d116",
   "metadata": {},
   "outputs": [],
   "source": [
    "# from https://stackoverflow.com/a/57295098\n",
    "# apparently out of date\n",
    "\n",
    "def get_signals(source):\n",
    "    cls = source if isinstance(source, type) else type(source)\n",
    "    signal = type(QtCore.pyqtSignal())\n",
    "    for subcls in cls.mro():\n",
    "        clsname = f'{subcls.__module__}.{subcls.__name__}'\n",
    "        for key, value in sorted(vars(subcls).items()):\n",
    "            if isinstance(value, signal):\n",
    "                print(f'{key} [{clsname}]')\n",
    "\n",
    "def list_all_signals(obj):\n",
    "    attr_names = dir(obj)\n",
    "    attributes = (getattr(obj, attr_name) for attr_name in attr_names)\n",
    "    connectable = filter(lambda l: hasattr(l, \"connect\"), attributes)\n",
    "    return connectable\n",
    "\n",
    "class SignalListener(QtCore.QObject):\n",
    "    @QtCore.pyqtSlot()\n",
    "    def universal_slot(self, *args, **kwargs):\n",
    "        print(\"Signal caught\" + 30 * \"-\")\n",
    "        print(\"sender:\", self.sender())\n",
    "        meta_method = (\n",
    "            self.sender().metaObject().method(self.senderSignalIndex())\n",
    "        )\n",
    "        print(\"signal:\", meta_method.name())\n",
    "        print(\"signal signature:\", meta_method.methodSignature())\n",
    "\n",
    "SIGNAL_LISTENER = SignalListener()\n",
    "\n",
    "def spy_on_all_signals(obj, listener = SIGNAL_LISTENER):\n",
    "    for signal in list_all_signals(obj):\n",
    "        signal.connect(SIGNAL_LISTENER.universal_slot)"
   ]
  },
  {
   "cell_type": "markdown",
   "id": "6328a99f-82d7-43e4-bb11-854130e4d6d0",
   "metadata": {
    "jp-MarkdownHeadingCollapsed": true,
    "tags": []
   },
   "source": [
    "### Simplest case - no dynamic stuff"
   ]
  },
  {
   "cell_type": "code",
   "execution_count": null,
   "id": "efdf2510-6ce5-4cf6-a923-74400c596f90",
   "metadata": {},
   "outputs": [],
   "source": [
    "class TestModel0(QtCore.QObject):\n",
    "    _y_changed = QtCore.pyqtSignal(str, name=\"_y_changed\")\n",
    "    def __init__(self, y):\n",
    "        super(TestModel0, self).__init__()\n",
    "        self._y = y\n",
    "        \n",
    "    @property\n",
    "    def y(self):\n",
    "        return self._y\n",
    "    \n",
    "    @y.setter\n",
    "    def y(self, value):\n",
    "        self._y = value\n",
    "        print(\"set y\")\n",
    "        self._y_changed.emit(value)\n",
    "        print('done')\n",
    "\n",
    "class TestControl0(QtCore.QObject):\n",
    "    def __init__(self, model):\n",
    "        super(TestControl0, self).__init__()\n",
    "        self.model = model\n",
    "        self.model._y_changed.connect(self.on_y_changed)\n",
    "        \n",
    "    @QtCore.pyqtSlot(str)\n",
    "    def on_y_changed(self, val):\n",
    "        print(\"caught y changed\", val)\n",
    "        \n",
    "m0 = TestModel0(\"baz\")\n",
    "t0 = TestControl0(m0)"
   ]
  },
  {
   "cell_type": "code",
   "execution_count": null,
   "id": "60bbbb2d-dae0-4ed1-818e-38de145ee5e0",
   "metadata": {},
   "outputs": [],
   "source": [
    "m0.y = 'newstr'"
   ]
  },
  {
   "cell_type": "code",
   "execution_count": null,
   "id": "909db0fb-fa3d-49de-8029-3f449319140e",
   "metadata": {},
   "outputs": [],
   "source": [
    "class TestModel01(TestModel0):\n",
    "    pass\n",
    "\n",
    "hasattr(TestModel01, \"_y_changed\")"
   ]
  },
  {
   "cell_type": "code",
   "execution_count": null,
   "id": "9d4c2c7c-b556-4c6e-b105-db25c39341ee",
   "metadata": {},
   "outputs": [],
   "source": [
    "m01 = TestModel01(\"baz\")\n",
    "t01 = TestControl0(m01)"
   ]
  },
  {
   "cell_type": "code",
   "execution_count": null,
   "id": "dc8e06a7-ca3e-4434-bade-d95bb7eafc42",
   "metadata": {},
   "outputs": [],
   "source": [
    "m01.y = 'newstr'"
   ]
  },
  {
   "cell_type": "code",
   "execution_count": null,
   "id": "349ed218-34c0-480c-8c2b-fe3b7cde7c88",
   "metadata": {},
   "outputs": [],
   "source": [
    "m01.dumpObjectInfo()"
   ]
  },
  {
   "cell_type": "markdown",
   "id": "c20e18c2-afb1-49a5-828f-0b69df6fd996",
   "metadata": {
    "jp-MarkdownHeadingCollapsed": true,
    "tags": []
   },
   "source": [
    "### initial implementation of dynamic Signals - BROKEN"
   ]
  },
  {
   "cell_type": "code",
   "execution_count": null,
   "id": "aa4caa0c-a96d-4994-8ca9-0de771695789",
   "metadata": {},
   "outputs": [],
   "source": [
    "PYQT_SIGNAL = QtCore.pyqtSignal\n",
    "PYQT_SLOT = QtCore.pyqtSlot\n",
    "PYQT_OBJECT = QtCore.QObject\n",
    "\n",
    "class SignalWrapper():\n",
    "    \"\"\"Descriptor to automatically emit a pyqtSignal (assumed predefined)\n",
    "    on change of a model attribute.\n",
    "    \"\"\"\n",
    "    def __init__(self, name, signal_type=None):\n",
    "        self.__set_name__(None, name)\n",
    "        self.signal_type = signal_type\n",
    "\n",
    "    @staticmethod\n",
    "    def _private_from_public_name(name):\n",
    "        return '_' + name\n",
    "\n",
    "    @staticmethod\n",
    "    def _public_from_private_name(name):\n",
    "        assert name.startswith('_')\n",
    "        return name[1:]\n",
    "\n",
    "    @staticmethod\n",
    "    def _signal_from_public_name(name):\n",
    "        return '_' + name + '_changed'\n",
    "\n",
    "    def __set_name__(self, owner, name):\n",
    "        self.public_name = name\n",
    "        self.private_name = self._private_from_public_name(name)\n",
    "        self.signal_name = self._signal_from_public_name(name)\n",
    "\n",
    "    def __get__(self, obj, objtype=None):\n",
    "        if obj is None:\n",
    "            return self\n",
    "        return getattr(obj, self.private_name)\n",
    "\n",
    "    def __set__(self, obj, value):\n",
    "        \"\"\"Emit `signal_name` when value is changed to a new value (only.)\n",
    "        \"\"\"\n",
    "        old_value = getattr(obj, self.private_name)\n",
    "        try:\n",
    "            setattr(obj, self.private_name, value)\n",
    "            if old_value != value:\n",
    "                self._emit(obj, value)\n",
    "        except ValueError:\n",
    "            # if attrs validation fails, don't emit signal\n",
    "            raise\n",
    "\n",
    "    def _emit(self, obj, value=None):\n",
    "        \"\"\"Emit associated signal with current attribute value.\n",
    "        \"\"\"\n",
    "        try:\n",
    "            if value is None:\n",
    "                value = getattr(obj, self.private_name)\n",
    "            getattr(obj, self.signal_name).emit(self.signal_type(value))\n",
    "        except ValueError:\n",
    "            # if attrs validation fails, don't emit signal\n",
    "            raise"
   ]
  },
  {
   "cell_type": "code",
   "execution_count": null,
   "id": "d40a225d-9a1e-46a4-8712-61836bf34d7c",
   "metadata": {},
   "outputs": [],
   "source": [
    "def _attr_field_transformer(cls, fields):\n",
    "    \"\"\"Modify field definition process on attrs/dataclass in order to set up\n",
    "    signal and signal descriptor. The original field is mapped to `private_name`,\n",
    "    while the descriptor is assigned to the original `public_name`.\n",
    "\n",
    "    See https://www.attrs.org/en/stable/extending.html#automatic-field-transformation-and-modification.\n",
    "    \"\"\"\n",
    "    new_fields = []\n",
    "    for f in fields:\n",
    "        # really don't want to put all signal type-casting logic here\n",
    "        if attrs.has(f.type):\n",
    "            # don't create a descriptor/signal for attributes that are other\n",
    "            # Models (ie building up Model object through composition.)\n",
    "            continue\n",
    "\n",
    "        if isinstance(f.type, pathlib.Path):\n",
    "            signal_type = str\n",
    "        elif isinstance(f.type, enum.Enum):\n",
    "            signal_type = int\n",
    "        else:\n",
    "            signal_type = f.type\n",
    "\n",
    "        desc = SignalWrapper(f.name, signal_type)\n",
    "        renamed_f = f.evolve(name=desc.private_name)\n",
    "        new_fields.append(renamed_f)\n",
    "        setattr(cls, desc.public_name, desc)\n",
    "        setattr(cls, desc.signal_name, PYQT_SIGNAL(signal_type, name=desc.signal_name))\n",
    "    return new_fields\n",
    "\n",
    "def attrs_define_w_signals(cls=None, **deco_kwargs):\n",
    "    \"\"\"Wrap the attrs.define() class decorator to automatically invoke\n",
    "    `_attr_field_transformer`, to automatically define and emit signals when the\n",
    "    values of the fields of `cls` are changed.\n",
    "    \"\"\"\n",
    "    deco_kwargs.update({\"slots\":False, \"field_transformer\":_attr_field_transformer})\n",
    "    if cls is None:\n",
    "        # decorator called without arguments\n",
    "        return functools.partial(attrs_define_w_signals, **deco_kwargs)\n",
    "\n",
    "    # check that the class we're decorating is capable of emitting Signals\n",
    "    # assert any(issubclass(cls_, PYQT_OBJECT) for cls_ in cls.__mro__)\n",
    "\n",
    "    # attrs auto-generates an __init__ method; need to manually ensure that\n",
    "    # super() is called.\n",
    "    # https://www.attrs.org/en/stable/init.html#hooking-yourself-into-initialization\n",
    "    def _pre_init(self):\n",
    "        super(cls, self).__init__()\n",
    "    setattr(cls, \"__attrs_pre_init__\", _pre_init)\n",
    "\n",
    "    # hacky but necessary way to sync up associated Views with the Model. Model\n",
    "    # needs to be instantiated before it's connect()ed to views, but this means\n",
    "    # views don't know about inital values of model fields. To fix this, provide\n",
    "    # a method to manually fire all _*_changed signals for all model fields.\n",
    "    def _on_connect(self):\n",
    "        cls_ = type(self)\n",
    "        for f in attrs.fields(cls_):\n",
    "            private_name = f.name # _attr_field_transformer remapped names\n",
    "            public_name = SignalWrapper._public_from_private_name(private_name)\n",
    "            signal_name = SignalWrapper._signal_from_public_name(public_name)\n",
    "            if hasattr(cls_, signal_name):\n",
    "                # descriptors are class attributes; call method on the class\n",
    "                getattr(cls_, public_name)._emit(self)\n",
    "    setattr(cls, \"on_connect\", _on_connect)\n",
    "\n",
    "    # apply the attrs dataclass decorator, with descriptors and signals assigned\n",
    "    # according to _attr_field_transformer()\n",
    "    return attrs.define(cls, **deco_kwargs)"
   ]
  },
  {
   "cell_type": "code",
   "execution_count": null,
   "id": "e6a5be93-79ed-4ef1-bf0d-608e7035aae4",
   "metadata": {},
   "outputs": [],
   "source": [
    "@attrs_define_w_signals\n",
    "class TestModel1(PYQT_OBJECT):\n",
    "    y:str\n",
    "    \n",
    "m1 = TestModel1(y=\"foo\")\n",
    "[print(s) for s in list_all_signals(m1)]"
   ]
  },
  {
   "cell_type": "code",
   "execution_count": null,
   "id": "b49c4bad-0704-4694-94bc-36edba458227",
   "metadata": {},
   "outputs": [],
   "source": [
    "spy_on_all_signals(m1)"
   ]
  },
  {
   "cell_type": "code",
   "execution_count": null,
   "id": "029f8375-ecaa-43a9-a49e-ec6afffccfed",
   "metadata": {},
   "outputs": [],
   "source": [
    "class TestControl1(PYQT_OBJECT):\n",
    "    def __init__(self, model):\n",
    "        super(TestControl1, self).__init__()\n",
    "        self.model = model\n",
    "        self.model._y_changed.connect(self.on_y_changed)\n",
    "        \n",
    "    @PYQT_SLOT(str)\n",
    "    def on_y_changed(self, val):\n",
    "        print(\"caught y changed\", val)\n",
    "\n",
    "t1 = TestControl1(m1)"
   ]
  },
  {
   "cell_type": "code",
   "execution_count": null,
   "id": "cb860d05-8b6d-424d-a112-8fec1bae4479",
   "metadata": {},
   "outputs": [],
   "source": [
    "m1.y = \"blerg\""
   ]
  },
  {
   "cell_type": "code",
   "execution_count": null,
   "id": "b9c62a20-5359-47e1-ad25-7ce34af56d79",
   "metadata": {},
   "outputs": [],
   "source": [
    "m1.dumpObjectInfo()"
   ]
  },
  {
   "cell_type": "code",
   "execution_count": null,
   "id": "0258cd7b-cb1c-4667-bf11-b5f2ae4f2120",
   "metadata": {},
   "outputs": [],
   "source": [
    "\n",
    "class TestModel11(TestModel1):\n",
    "    pass\n",
    "print(hasattr(TestModel1, \"_y_changed\"), hasattr(TestModel11, \"_y_changed\"))"
   ]
  },
  {
   "cell_type": "code",
   "execution_count": null,
   "id": "b6505e12-e69b-441e-8faa-a52e721fb680",
   "metadata": {},
   "outputs": [],
   "source": [
    "m11 = TestModel11(y=\"foo\")"
   ]
  },
  {
   "cell_type": "code",
   "execution_count": null,
   "id": "68fc5353-98bf-430c-86bb-376379557edf",
   "metadata": {},
   "outputs": [],
   "source": [
    "m11.dumpObjectInfo()"
   ]
  },
  {
   "cell_type": "code",
   "execution_count": null,
   "id": "30bb5c71-bd6d-464a-bcf1-d40b2f7065d1",
   "metadata": {},
   "outputs": [],
   "source": [
    "type(TestModel11)"
   ]
  },
  {
   "cell_type": "code",
   "execution_count": null,
   "id": "c67e0034-06d7-4de4-a836-a3d6481ca9b9",
   "metadata": {},
   "outputs": [],
   "source": [
    "@attrs_define_w_signals\n",
    "class TestModel12():\n",
    "    y:str\n",
    "    \n",
    "class TestModel13(QtCore.QObject, TestModel12):\n",
    "    pass"
   ]
  },
  {
   "cell_type": "code",
   "execution_count": null,
   "id": "b3dac76e-a9c4-47e7-a3ea-5d2da68e2e70",
   "metadata": {},
   "outputs": [],
   "source": [
    "print(hasattr(TestModel13, \"_y_changed\"))\n",
    "m13 = TestModel13(y=\"foo\")\n",
    "m13.dumpObjectInfo()"
   ]
  },
  {
   "cell_type": "markdown",
   "id": "1f274bdc-75ee-495d-acf9-1a01dd975edd",
   "metadata": {},
   "source": [
    "### Second try: metaclass implementation"
   ]
  },
  {
   "cell_type": "markdown",
   "id": "ae3d7d57-329b-4e19-b207-61bea4a36a37",
   "metadata": {},
   "source": [
    "Based on https://stackoverflow.com/a/66266877"
   ]
  },
  {
   "cell_type": "code",
   "execution_count": null,
   "id": "ee45e0e5-41a5-48dc-befe-b20025ccfb00",
   "metadata": {},
   "outputs": [],
   "source": [
    "class TestMetaclass(type(object)):\n",
    "    def __new__(cls, name, bases, attrs_):\n",
    "        print(attrs_)\n",
    "        return super().__new__(cls, name, bases, attrs_)\n",
    "    \n",
    "@attrs.define\n",
    "class TestAttrsClass(metaclass=TestMetaclass):\n",
    "    x: int\n",
    "    y: str"
   ]
  },
  {
   "cell_type": "markdown",
   "id": "edffce9c-859a-4012-982d-c8a7367de00f",
   "metadata": {},
   "source": [
    "So custom metaclass *does* get called after decorator, apparently only if no decorator kwargs."
   ]
  },
  {
   "cell_type": "code",
   "execution_count": null,
   "id": "d10dfcc1-598a-4bb6-92ae-39286ae4e76e",
   "metadata": {},
   "outputs": [],
   "source": [
    "attrs.fields(TestAttrsClass)"
   ]
  },
  {
   "cell_type": "code",
   "execution_count": null,
   "id": "0464b1f7-24b6-4ea0-8ca1-1aec85df8218",
   "metadata": {},
   "outputs": [],
   "source": [
    "class PropertyWrapper(QtCore.pyqtProperty):\n",
    "    \"\"\"Property implementation: gets, sets, and notifies of change.\"\"\"\n",
    "    def __init__(self, type_, name, notify):\n",
    "        super().__init__(type_, self.getter, self.setter, notify=notify)\n",
    "        self.name = name\n",
    "        self.signal_type = type_\n",
    "        print(f'\\tProp {name} signal type {type_} {type(type_)}')\n",
    "        \n",
    "    @staticmethod\n",
    "    def _private_from_public_name(name):\n",
    "        return '_' + name.lstrip('_')\n",
    "\n",
    "    @staticmethod\n",
    "    def _public_from_private_name(name):\n",
    "        assert name.startswith('_')\n",
    "        return name.lstrip('_')\n",
    "\n",
    "    @staticmethod\n",
    "    def _signal_from_public_name(name):\n",
    "        return '_' + name.lstrip('_') + '_changed'\n",
    "    \n",
    "    @staticmethod\n",
    "    def _signal_from_private_name(name):\n",
    "        return '_' + name.lstrip('_') + '_changed'\n",
    "    \n",
    "    @property\n",
    "    def private_name(self):\n",
    "        return self._private_from_public_name(self.name)\n",
    "    \n",
    "    @property\n",
    "    def signal_name(self):\n",
    "        return self._signal_from_public_name(self.name)\n",
    "\n",
    "    def getter(self, instance):\n",
    "        return getattr(instance, self.private_name)\n",
    "\n",
    "    def setter(self, instance, value):\n",
    "        signal = getattr(instance, self.signal_name)\n",
    "        if type(value) in (list, dict):\n",
    "            value = _MAKE_NOTIFIED(value, signal)\n",
    "            signal.emit(value)\n",
    "        else:\n",
    "            # coerce from field value\n",
    "            foo = getattr(instance, self.private_name)\n",
    "            print(f'\\tProp {self.name} value {foo} {type(foo)}')\n",
    "            print(f'\\tProp {self.name} signal type {type_} {type(type_)}')\n",
    "            old_value = self.signal_type(getattr(instance, self.private_name))\n",
    "            if old_value != value:\n",
    "                signal.emit(self.signal_type(value)) # may be redundant\n",
    "        setattr(instance, self.private_name, value)\n",
    "\n",
    "def _attr_field_transformer(cls, fields):\n",
    "    \"\"\"Modify field definition process on attrs/dataclass in order to set up\n",
    "    signal and signal descriptor. The original field is mapped to `private_name`,\n",
    "    while the descriptor is assigned to the original `public_name`.\n",
    "\n",
    "    See https://www.attrs.org/en/stable/extending.html#automatic-field-transformation-and-modification.\n",
    "    \"\"\"\n",
    "    new_fields = []\n",
    "    for f in fields:\n",
    "        assert not attrs.has(f.type)\n",
    "            # don't create a descriptor/signal for attributes that are other\n",
    "            # Models (ie building up Model object through composition.)\n",
    "            # currently can't handle this case.\n",
    "        private_name = PropertyWrapper._private_from_public_name(f.name)\n",
    "        new_fields.append(f.evolve(name=private_name))\n",
    "    return new_fields\n",
    "\n",
    "def attrs_define(cls=None, **deco_kwargs):\n",
    "    deco_kwargs.update({\"slots\":True, \"field_transformer\":_attr_field_transformer})\n",
    "    if cls is None:\n",
    "        # decorator called without arguments\n",
    "        return functools.partial(attrs_define, **deco_kwargs)\n",
    "\n",
    "    # attrs auto-generates an __init__ method; need to manually ensure that\n",
    "    # super() is called.\n",
    "    # https://www.attrs.org/en/stable/init.html#hooking-yourself-into-initialization\n",
    "    def _pre_init(self):\n",
    "        QtCore.QObject.__init__(self)\n",
    "    setattr(cls, \"__attrs_pre_init__\", _pre_init)\n",
    "\n",
    "    # apply the attrs dataclass decorator, with descriptors and signals assigned\n",
    "    # according to _attr_field_transformer()\n",
    "    return attrs.define(cls, **deco_kwargs)\n",
    "\n",
    "_AUTOSIGNAL_TYPE_COERCE = {\n",
    "    list: 'QVariantList', dict: 'QVariantMap',\n",
    "    pathlib.Path: str,\n",
    "    enum.Enum: int\n",
    "}\n",
    "\n",
    "class AutoSignalMetaclass(type(QtCore.QObject)):\n",
    "    \"\"\"Lets a class succinctly define Qt properties.\"\"\"\n",
    "    def __new__(cls, name, bases, attrs_):\n",
    "        if '__attrs_attrs__' not in attrs_:\n",
    "            print(\"test2\")\n",
    "            # first call, before attrs decorator; ordinary Object behavior\n",
    "            return type.__new__(cls, name, bases, attrs_)\n",
    "        \n",
    "        print(\"test\")\n",
    "        # If we get here, attrs decorator has done its work\n",
    "        for f in attrs_['__attrs_attrs__']:\n",
    "            signal_type = _AUTOSIGNAL_TYPE_COERCE.get(f.type, f.type)\n",
    "            \n",
    "            private_name = f.name # _attr_field_transformer remapped names\n",
    "            public_name = PropertyWrapper._public_from_private_name(private_name)\n",
    "            signal_name = PropertyWrapper._signal_from_public_name(public_name)\n",
    "            print(f'\\tAdding signal {signal_name} {signal_type}')\n",
    "            signal = QtCore.pyqtSignal(signal_type, name=signal_name)\n",
    "            attrs_[signal_name] = signal\n",
    "            attrs_[public_name] = PropertyWrapper(type_=signal_type, name=public_name, notify=signal)\n",
    "    \n",
    "        # hacky but necessary way to sync up associated Views with the Model. Model\n",
    "        # needs to be instantiated before it's connect()ed to views, but this means\n",
    "        # views don't know about inital values of model fields. To fix this, provide\n",
    "        # a method to manually fire all _*_changed signals for all model fields.\n",
    "        def _on_connect(self):\n",
    "            cls_ = type(self)\n",
    "            for f in attrs.fields(cls_):\n",
    "                private_name = f.name # _attr_field_transformer remapped names\n",
    "                public_name = PropertyWrapper._public_from_private_name(private_name)\n",
    "                signal_name = PropertyWrapper._signal_from_public_name(public_name)\n",
    "                if hasattr(cls_, signal_name):\n",
    "                    # signals are class attributes BUT need to call emit() on the instance\n",
    "                    value = getattr(self, public_name)\n",
    "                    getattr(self, signal_name).emit(value)\n",
    "        attrs_[\"on_connect\"] = _on_connect\n",
    "            \n",
    "        return super().__new__(cls, name, bases, attrs_)"
   ]
  },
  {
   "cell_type": "code",
   "execution_count": null,
   "id": "b6ecb8d9-94c4-44b5-85d0-2a21c27a3018",
   "metadata": {},
   "outputs": [],
   "source": [
    "@attrs_define\n",
    "class TestModel2(QtCore.QObject, metaclass=AutoSignalMetaclass):\n",
    "    x:int\n",
    "    y:str\n",
    "    \n",
    "m2 = TestModel2(x=2, y=\"foo\")\n",
    "[print(s) for s in list_all_signals(m2)]"
   ]
  },
  {
   "cell_type": "code",
   "execution_count": null,
   "id": "24c0e8f0-2bc6-4ab0-bb85-0db6b83ac01f",
   "metadata": {},
   "outputs": [],
   "source": [
    "m2.as_dict()"
   ]
  },
  {
   "cell_type": "code",
   "execution_count": null,
   "id": "02bae06c-2ae4-4416-8bd1-88980cdc128f",
   "metadata": {},
   "outputs": [],
   "source": [
    "attrs.asdict(m2)"
   ]
  },
  {
   "cell_type": "code",
   "execution_count": null,
   "id": "6650bc5d-68cb-49af-a544-607f6ddf3657",
   "metadata": {},
   "outputs": [],
   "source": [
    "class TestControl2(QtCore.QObject):\n",
    "    def __init__(self, model):\n",
    "        super(TestControl2, self).__init__()\n",
    "        self.model = model\n",
    "        self.model._y_changed.connect(self.on_y_changed)\n",
    "        \n",
    "    @PYQT_SLOT(str)\n",
    "    def on_y_changed(self, val):\n",
    "        print(\"caught y changed\", val)\n",
    "\n",
    "t2 = TestControl2(m2)"
   ]
  },
  {
   "cell_type": "code",
   "execution_count": null,
   "id": "b37f5ef9-85f9-4761-9d2c-4334efeb0e0c",
   "metadata": {},
   "outputs": [],
   "source": [
    "m2.y = \"now test\""
   ]
  },
  {
   "cell_type": "code",
   "execution_count": null,
   "id": "47b340c4-f721-4db0-b99a-dea17e9b7427",
   "metadata": {},
   "outputs": [],
   "source": [
    "m2.on_connect()"
   ]
  },
  {
   "cell_type": "code",
   "execution_count": null,
   "id": "d886650a-5026-4610-92e1-8de6b3f60f6e",
   "metadata": {},
   "outputs": [],
   "source": [
    "m2._y_changed.emit(\"arf\")"
   ]
  },
  {
   "cell_type": "code",
   "execution_count": null,
   "id": "39bd8e7d-a1b1-4889-b28c-e6b8c3e5ca81",
   "metadata": {},
   "outputs": [],
   "source": [
    "# now add list/dict mutability signals from SO\n",
    "class MakeNotified:\n",
    "    \"\"\"Adds notifying signals to lists and dictionaries.\n",
    "    \n",
    "    Creates the modified classes just once, on initialization.\n",
    "    \"\"\"\n",
    "    change_methods = {\n",
    "        list: ['__delitem__', '__iadd__', '__imul__', '__setitem__', 'append',\n",
    "               'extend', 'insert', 'pop', 'remove', 'reverse', 'sort'],\n",
    "        dict: ['__delitem__', '__ior__', '__setitem__', 'clear', 'pop',\n",
    "               'popitem', 'setdefault', 'update']\n",
    "    }\n",
    "    \n",
    "    def __init__(self):\n",
    "        if not hasattr(dict, '__ior__'):\n",
    "            # Dictionaries don't have | operator in Python < 3.9.\n",
    "            self.change_methods[dict].remove('__ior__')\n",
    "        self.notified_class = {type_: self.make_notified_class(type_)\n",
    "                               for type_ in [list, dict]}\n",
    "    \n",
    "    def __call__(self, seq, signal):\n",
    "        \"\"\"Returns a notifying version of the supplied list or dict.\"\"\"\n",
    "        notified_class = self.notified_class[type(seq)]\n",
    "        notified_seq = notified_class(seq)\n",
    "        notified_seq.signal = signal\n",
    "        return notified_seq\n",
    "    \n",
    "    @classmethod\n",
    "    def make_notified_class(cls, parent):\n",
    "        notified_class = type(f'notified_{parent.__name__}', (parent,), {})\n",
    "        for method_name in cls.change_methods[parent]:\n",
    "            original = getattr(notified_class, method_name)\n",
    "            notified_method = cls.make_notified_method(original, parent)\n",
    "            setattr(notified_class, method_name, notified_method)\n",
    "        return notified_class\n",
    "    \n",
    "    @staticmethod\n",
    "    def make_notified_method(method, parent):\n",
    "        @functools.wraps(method)\n",
    "        def notified_method(self, *args, **kwargs):\n",
    "            result = getattr(parent, method.__name__)(self, *args, **kwargs)\n",
    "            self.signal.emit(self)\n",
    "            return result\n",
    "        return notified_method\n",
    "\n",
    "_MAKE_NOTIFIED = MakeNotified()"
   ]
  },
  {
   "cell_type": "code",
   "execution_count": null,
   "id": "cb40f8ce-29c3-4418-8eb4-d9fa535a807a",
   "metadata": {},
   "outputs": [],
   "source": [
    "@attrs_define\n",
    "class TestModel3(QtCore.QObject, metaclass=AutoSignalMetaclass):\n",
    "    y:str\n",
    "    x:list = attrs.Factory(list) # list[int] not handled correctly\n",
    "    \n",
    "m3 = TestModel3(y=\"foo\", x=[1,2])\n",
    "[print(s) for s in list_all_signals(m3)]"
   ]
  },
  {
   "cell_type": "code",
   "execution_count": null,
   "id": "cae28f4f-f28b-412c-b251-0f9d0df7c727",
   "metadata": {},
   "outputs": [],
   "source": [
    "class TestControl3(QtCore.QObject):\n",
    "    def __init__(self, model):\n",
    "        super(TestControl3, self).__init__()\n",
    "        self.model = model\n",
    "        self.model._y_changed.connect(self.on_y_changed)\n",
    "        self.model._x_changed.connect(self.on_x_changed)\n",
    "        \n",
    "    @PYQT_SLOT(str)\n",
    "    def on_y_changed(self, val):\n",
    "        print(\"caught y changed\", val)\n",
    "        \n",
    "    @PYQT_SLOT(list)\n",
    "    def on_x_changed(self, val):\n",
    "        print(\"caught x changed\", val)\n",
    "\n",
    "t3 = TestControl3(m3)"
   ]
  },
  {
   "cell_type": "code",
   "execution_count": null,
   "id": "03db3510-a45b-4bae-8d0f-12fce2ed84d9",
   "metadata": {},
   "outputs": [],
   "source": [
    "m3.y = \"test 1\""
   ]
  },
  {
   "cell_type": "code",
   "execution_count": null,
   "id": "41c495d1-b85e-45de-b0c0-a81ac5ffe118",
   "metadata": {},
   "outputs": [],
   "source": [
    "m3.x = [4,5]"
   ]
  },
  {
   "cell_type": "code",
   "execution_count": null,
   "id": "636f6a38-d67c-4c0c-a71a-4997b703ab67",
   "metadata": {},
   "outputs": [],
   "source": [
    "m3.x.append(6)"
   ]
  },
  {
   "cell_type": "code",
   "execution_count": null,
   "id": "353323f2-b0d0-4047-8a52-1adb3b43cb38",
   "metadata": {},
   "outputs": [],
   "source": [
    "m3.x[0] = 420"
   ]
  },
  {
   "cell_type": "code",
   "execution_count": null,
   "id": "799cafb3-836f-4c78-b2ef-035aadc59109",
   "metadata": {},
   "outputs": [],
   "source": [
    "m3.on_connect()"
   ]
  },
  {
   "cell_type": "markdown",
   "id": "bd8ce724-9e4f-4444-8d5a-176633420cb6",
   "metadata": {},
   "source": [
    "Now test inheritance (no multiple inheritance)"
   ]
  },
  {
   "cell_type": "code",
   "execution_count": null,
   "id": "9f224906-94e2-4484-85a9-38077baaeaf3",
   "metadata": {},
   "outputs": [],
   "source": [
    "@attrs_define\n",
    "class TestModel4(TestModel3):\n",
    "    z:int = 0\n",
    "    \n",
    "m4 = TestModel4(y=\"foo\", x=[1,2], z=7)\n",
    "[print(s) for s in list_all_signals(m4)]\n",
    "\n",
    "t4 = TestControl3(m4)"
   ]
  },
  {
   "cell_type": "code",
   "execution_count": null,
   "id": "886dec8e-e2e5-4016-ac42-24e956910793",
   "metadata": {},
   "outputs": [],
   "source": [
    "m4.y = \"test inherit\""
   ]
  },
  {
   "cell_type": "code",
   "execution_count": null,
   "id": "2b525188-223d-4a84-bf41-da049c813356",
   "metadata": {},
   "outputs": [],
   "source": [
    "m4.x = [4,5]"
   ]
  },
  {
   "cell_type": "code",
   "execution_count": null,
   "id": "0d6a9bb0-6bab-4128-98c6-ef4859813b42",
   "metadata": {},
   "outputs": [],
   "source": [
    "(hasattr(m4, '_TestModel4__x'), '_TestModel4__x' in m4.__dict__)"
   ]
  },
  {
   "cell_type": "code",
   "execution_count": null,
   "id": "eec603ac-91e8-4cf4-a99b-4c58d0d89643",
   "metadata": {},
   "outputs": [],
   "source": [
    "'_TestModel4__x' in dir(m4)"
   ]
  },
  {
   "cell_type": "code",
   "execution_count": null,
   "id": "f88b0505-a164-42f5-a287-13807b0a26f7",
   "metadata": {},
   "outputs": [],
   "source": [
    "TestModel4.__attrs_attrs__"
   ]
  },
  {
   "cell_type": "code",
   "execution_count": null,
   "id": "688852c9-bf4e-4f9a-aa14-50a73957e9d2",
   "metadata": {},
   "outputs": [],
   "source": [
    "(type(TestModel4.x), type(TestModel4._x))"
   ]
  },
  {
   "cell_type": "code",
   "execution_count": null,
   "id": "bdf5168c-e0fb-4b00-ba12-8ec91a8b7fc3",
   "metadata": {},
   "outputs": [],
   "source": [
    "(type(TestModel3.x), type(TestModel3._x))"
   ]
  },
  {
   "cell_type": "code",
   "execution_count": null,
   "id": "ed7a23c2-0343-468c-b63c-fd4b1a9e806d",
   "metadata": {},
   "outputs": [],
   "source": [
    "TestModel4.__dict__"
   ]
  },
  {
   "cell_type": "markdown",
   "id": "13a4e80f-8deb-44ee-b484-2365d5261775",
   "metadata": {},
   "source": [
    "### add on_* methods to Controller classes"
   ]
  },
  {
   "cell_type": "code",
   "execution_count": null,
   "id": "0d2de84a-69d8-491a-87f6-c105e23aae84",
   "metadata": {},
   "outputs": [],
   "source": [
    "foo = PYQT_SIGNAL(int)\n",
    "foo.signatures"
   ]
  },
  {
   "cell_type": "code",
   "execution_count": null,
   "id": "7633b0a1-7ce2-4b7a-a02a-8e5ff24a0468",
   "metadata": {},
   "outputs": [],
   "source": [
    "class AutoSlotMetaclass(type(PYQT_OBJECT)):\n",
    "    \"\"\"Metaclass for dynamically associating PyQt Slots based on an associated Model.\n",
    "    \"\"\"\n",
    "    def __new__(cls, name, bases, attrs_):\n",
    "        if '_model_class' not in attrs_:\n",
    "            return super().__new__(cls, name, bases, attrs_)\n",
    "        model_cls = attrs_['_model_class']\n",
    "        if not hasattr(model_cls, '__attrs_attrs__'):\n",
    "            return super().__new__(cls, name, bases, attrs_)\n",
    "        \n",
    "        for f in model_cls.__attrs_attrs__:\n",
    "            private_name = f.name # _attr_field_transformer remapped names\n",
    "            public_name = PropertyWrapper._public_from_private_name(private_name)\n",
    "            signal_name = PropertyWrapper._signal_from_public_name(public_name)\n",
    "            signal_type = getattr(model_cls, public_name).signal_type\n",
    "            method_name = 'on'+signal_name\n",
    "            \n",
    "            @QtCore.pyqtSlot(signal_type)\n",
    "            def _slot_with_dummy_name(self, value):\n",
    "                setattr(self.model, public_name, value)\n",
    "                \n",
    "            attrs_[method_name] = _slot_with_dummy_name\n",
    "        return super().__new__(cls, name, bases, attrs_)\n",
    "\n",
    "class BaseController(PYQT_OBJECT, metaclass = AutoSlotMetaclass):\n",
    "    \"\"\"Base class for our Controller classes.\n",
    "    \"\"\"\n",
    "    def __init__(self, model, view):\n",
    "        super(BaseController, self).__init__()\n",
    "        self.model = model\n",
    "        self.view = view"
   ]
  },
  {
   "cell_type": "code",
   "execution_count": null,
   "id": "c0b378ec-0346-4003-9008-141d7ba7862e",
   "metadata": {},
   "outputs": [],
   "source": [
    "class TestControl5(BaseController):\n",
    "    _model_class = TestModel3"
   ]
  },
  {
   "cell_type": "code",
   "execution_count": null,
   "id": "219338b7-2c35-4295-b333-a747ca2ec6c5",
   "metadata": {},
   "outputs": [],
   "source": [
    "'on_x_changed' in dir(TestControl5)"
   ]
  },
  {
   "cell_type": "code",
   "execution_count": null,
   "id": "37dd8e09-8035-4793-8afd-a7c450221515",
   "metadata": {},
   "outputs": [],
   "source": [
    "m5 = TestModel3(y=\"foo\", x=[1,2])\n",
    "t5 = TestControl5(model=m5, view=None)\n",
    "m5._x_changed.connect(t5.on_x_changed)\n",
    "m5._y_changed.connect(t5.on_y_changed)"
   ]
  },
  {
   "cell_type": "code",
   "execution_count": null,
   "id": "8ce2add1-fd72-4bd7-a12f-8d231fd5cdb5",
   "metadata": {},
   "outputs": [],
   "source": [
    "m5.y = \"test again\""
   ]
  },
  {
   "cell_type": "code",
   "execution_count": null,
   "id": "1ed38417-24dd-4d85-a927-c461e3158dad",
   "metadata": {},
   "outputs": [],
   "source": [
    "\n",
    "t4 = TestControl3(m4)\n",
    "m4.on_connect()"
   ]
  },
  {
   "cell_type": "markdown",
   "id": "47e3135a-6e54-4a36-8ff8-0e571e1353ea",
   "metadata": {},
   "source": [
    "## New Controller idea"
   ]
  },
  {
   "cell_type": "code",
   "execution_count": null,
   "id": "7b5a1b29-afe8-4456-a512-e0a477083374",
   "metadata": {},
   "outputs": [],
   "source": [
    "class TestControl1a(QtCore.QObject):\n",
    "    x_valueChanged = PYQT_SIGNAL(str)\n",
    "\n",
    "class TestControl1b(TestControl1a, QtCore.QObject):\n",
    "    y_valueChanged = PYQT_SIGNAL(int)\n",
    "    \n",
    "    # only allowed to emit signals\n",
    "    def xy_update(self, z):\n",
    "        # uh oh\n",
    "        # self.x_valueChanged.emit()\n",
    "        \n"
   ]
  },
  {
   "cell_type": "code",
   "execution_count": 5,
   "id": "5e9aeb73-5174-444e-a8cd-a7b95f06f232",
   "metadata": {},
   "outputs": [
    {
     "data": {
      "text/plain": [
       "(False, True)"
      ]
     },
     "execution_count": 5,
     "metadata": {},
     "output_type": "execute_result"
    }
   ],
   "source": [
    "import typing\n",
    "(isinstance(typing.Dict, typing.Mapping), issubclass(typing.Dict, typing.Mapping))"
   ]
  },
  {
   "cell_type": "code",
   "execution_count": 7,
   "id": "e390cdfb-39c0-454d-9304-df6da926a2d2",
   "metadata": {},
   "outputs": [
    {
     "data": {
      "text/plain": [
       "(False, True)"
      ]
     },
     "execution_count": 7,
     "metadata": {},
     "output_type": "execute_result"
    }
   ],
   "source": [
    "\n",
    "(isinstance(dict, typing.Mapping), issubclass(dict, typing.Mapping))"
   ]
  },
  {
   "cell_type": "code",
   "execution_count": 9,
   "id": "f492b30c-bc12-43a2-b6c7-5ffb7d7999fb",
   "metadata": {},
   "outputs": [
    {
     "data": {
      "text/plain": [
       "'../foo/bar'"
      ]
     },
     "execution_count": 9,
     "metadata": {},
     "output_type": "execute_result"
    }
   ],
   "source": [
    "os.path.dirname(\"../foo/bar/baz.txt\")"
   ]
  },
  {
   "cell_type": "code",
   "execution_count": 10,
   "id": "41fdc20d-56b1-401e-b7e5-bc356642ad2b",
   "metadata": {},
   "outputs": [
    {
     "data": {
      "text/plain": [
       "'/Users/tsj'"
      ]
     },
     "execution_count": 10,
     "metadata": {},
     "output_type": "execute_result"
    }
   ],
   "source": [
    "os.path.expanduser(\"~\")"
   ]
  },
  {
   "cell_type": "code",
   "execution_count": 14,
   "id": "b7352fc8-c277-4725-80a0-b4274a3203ba",
   "metadata": {},
   "outputs": [
    {
     "ename": "TypeError",
     "evalue": "__init__() got an unexpected keyword argument 'bar'",
     "output_type": "error",
     "traceback": [
      "\u001b[0;31m---------------------------------------------------------------------------\u001b[0m",
      "\u001b[0;31mTypeError\u001b[0m                                 Traceback (most recent call last)",
      "Input \u001b[0;32mIn [14]\u001b[0m, in \u001b[0;36m<cell line: 1>\u001b[0;34m()\u001b[0m\n\u001b[0;32m----> 1\u001b[0m foo \u001b[38;5;241m=\u001b[39m \u001b[43mFooAttrs\u001b[49m\u001b[43m(\u001b[49m\u001b[43mx\u001b[49m\u001b[38;5;241;43m=\u001b[39;49m\u001b[38;5;241;43m13\u001b[39;49m\u001b[43m,\u001b[49m\u001b[43m \u001b[49m\u001b[43mbar\u001b[49m\u001b[43m \u001b[49m\u001b[38;5;241;43m=\u001b[39;49m\u001b[43m \u001b[49m\u001b[38;5;124;43m\"\u001b[39;49m\u001b[38;5;124;43mbar\u001b[39;49m\u001b[38;5;124;43m\"\u001b[39;49m\u001b[43m)\u001b[49m\n",
      "\u001b[0;31mTypeError\u001b[0m: __init__() got an unexpected keyword argument 'bar'"
     ]
    }
   ],
   "source": [
    "foo = FooAttrs(x=13, bar = \"bar\")"
   ]
  },
  {
   "cell_type": "code",
   "execution_count": 13,
   "id": "d9ddc494-3d3c-4b97-8bfb-2fa4551bf8dd",
   "metadata": {},
   "outputs": [],
   "source": [
    "@attrs.define(slots=True, kw_only=True)\n",
    "class FooAttrs():\n",
    "    x: int = 0\n",
    "    \n",
    "    def __attrs_post_init__(self, bar):\n",
    "        self.bar = bar"
   ]
  },
  {
   "cell_type": "markdown",
   "id": "1d9b9514-1a0b-47fb-85b2-1c46efd7b594",
   "metadata": {},
   "source": [
    "### Property stuff"
   ]
  },
  {
   "cell_type": "code",
   "execution_count": 36,
   "id": "b85fe617-2f07-4311-bbb2-0012f920f8dd",
   "metadata": {},
   "outputs": [],
   "source": [
    "class PropertyWrapper(QtCore.pyqtProperty):\n",
    "    \"\"\"Wrapper for pyqtProperty which automatically emits signal on field value\n",
    "    change.\n",
    "    \"\"\"\n",
    "    def __init__(self, type_, name):\n",
    "        # NB: pyqtProperty doesn't do anything with .notify; still need to \n",
    "        # .emit() the signal manually\n",
    "        super().__init__(type_, self.getter, self.setter)\n",
    "        self.name = name\n",
    "        self.signal_type = type_\n",
    "\n",
    "    @property\n",
    "    def private_name(self):\n",
    "        return '_'+self.name\n",
    "\n",
    "    def getter(self, instance):\n",
    "        return getattr(instance, self.private_name)\n",
    "\n",
    "    def setter(self, instance, value):\n",
    "        print(f\"Setter called: {instance} {self.name}:{value}\")\n",
    "        setattr(instance, self.private_name, value)\n",
    "\n",
    "def dummy_slot_deco(f):\n",
    "    def _ff(*args):\n",
    "        print(f\"Decorator called: {args}\")\n",
    "        return f(args)\n",
    "    return _ff\n",
    "        \n",
    "class Blerg(QtCore.QObject):\n",
    "    x = PropertyWrapper(int, \"x\")\n",
    "    \n",
    "    def __init__(self, x):\n",
    "        super().__init__()\n",
    "        self._x = x\n",
    "        self.x.setter = dummy_slot_deco(self.x.setter)"
   ]
  },
  {
   "cell_type": "code",
   "execution_count": 37,
   "id": "16aa9110-659c-4fdf-998e-dc7701e633fc",
   "metadata": {},
   "outputs": [
    {
     "ename": "AttributeError",
     "evalue": "'int' object has no attribute 'setter'",
     "output_type": "error",
     "traceback": [
      "\u001b[0;31m---------------------------------------------------------------------------\u001b[0m",
      "\u001b[0;31mAttributeError\u001b[0m                            Traceback (most recent call last)",
      "Input \u001b[0;32mIn [37]\u001b[0m, in \u001b[0;36m<cell line: 1>\u001b[0;34m()\u001b[0m\n\u001b[0;32m----> 1\u001b[0m blerg \u001b[38;5;241m=\u001b[39m \u001b[43mBlerg\u001b[49m\u001b[43m(\u001b[49m\u001b[38;5;241;43m3\u001b[39;49m\u001b[43m)\u001b[49m\n",
      "Input \u001b[0;32mIn [36]\u001b[0m, in \u001b[0;36mBlerg.__init__\u001b[0;34m(self, x)\u001b[0m\n\u001b[1;32m     33\u001b[0m \u001b[38;5;28msuper\u001b[39m()\u001b[38;5;241m.\u001b[39m\u001b[38;5;21m__init__\u001b[39m()\n\u001b[1;32m     34\u001b[0m \u001b[38;5;28mself\u001b[39m\u001b[38;5;241m.\u001b[39m_x \u001b[38;5;241m=\u001b[39m x\n\u001b[0;32m---> 35\u001b[0m \u001b[38;5;28mself\u001b[39m\u001b[38;5;241m.\u001b[39mx\u001b[38;5;241m.\u001b[39msetter \u001b[38;5;241m=\u001b[39m dummy_slot_deco(\u001b[38;5;28;43mself\u001b[39;49m\u001b[38;5;241;43m.\u001b[39;49m\u001b[43mx\u001b[49m\u001b[38;5;241;43m.\u001b[39;49m\u001b[43msetter\u001b[49m)\n",
      "\u001b[0;31mAttributeError\u001b[0m: 'int' object has no attribute 'setter'"
     ]
    }
   ],
   "source": [
    "blerg = Blerg(3)"
   ]
  },
  {
   "cell_type": "code",
   "execution_count": 34,
   "id": "0242fbb0-815f-4316-ac18-b6c7e5558531",
   "metadata": {},
   "outputs": [],
   "source": [
    "blerg.x = 6"
   ]
  },
  {
   "cell_type": "code",
   "execution_count": 35,
   "id": "860861ff-6415-4b03-889a-deb035db27b8",
   "metadata": {},
   "outputs": [
    {
     "name": "stdout",
     "output_type": "stream",
     "text": [
      "6 3\n"
     ]
    }
   ],
   "source": [
    "print(blerg.x, blerg._x)"
   ]
  },
  {
   "cell_type": "markdown",
   "id": "9d8fb799-af00-409d-9c9d-73fde960a09e",
   "metadata": {},
   "source": [
    "## Enum stuff"
   ]
  },
  {
   "cell_type": "code",
   "execution_count": null,
   "id": "fbac4ffe-54b8-4ae9-82eb-db500a84fb96",
   "metadata": {},
   "outputs": [],
   "source": []
  },
  {
   "cell_type": "code",
   "execution_count": null,
   "id": "c2dbcd94-b340-4eec-87c9-9e0ac1736c31",
   "metadata": {},
   "outputs": [],
   "source": [
    "class DummySignal():\n",
    "    def __init__(self, type_):\n",
    "        self._type = type_\n",
    "        \n",
    "    def emit(self, val):\n",
    "        print(\"Emitted \", val)\n",
    "        \n",
    "class SignalWrapper():\n",
    "    \"\"\"Descriptor to automatically emit a pyqtSignal (assumed predefined)\n",
    "    on change of a model attribute.\n",
    "    \"\"\"\n",
    "    def __init__(self, name, signal_type=None):\n",
    "        self.__set_name__(None, name)\n",
    "        self.signal_type = signal_type\n",
    "\n",
    "    def __set_name__(self, owner, name):\n",
    "        self.public_name = name\n",
    "        self.private_name = '_' + name\n",
    "        self.signal_name = '_' + name + '_changed'\n",
    "\n",
    "    def __get__(self, obj, objtype=None):\n",
    "        return getattr(obj, self.private_name)\n",
    "\n",
    "    def __set__(self, obj, value):\n",
    "        \"\"\"Emit `signal_name` when value is changed to a new value (only.)\n",
    "        \"\"\"\n",
    "        old_value = getattr(obj, self.private_name)\n",
    "        try:\n",
    "            setattr(obj, self.private_name, value)\n",
    "            if old_value != value:\n",
    "                getattr(obj, self.signal_name).emit(self.signal_type(value))\n",
    "        except ValueError:\n",
    "            # if attrs validation fails, don't emit signal\n",
    "            raise\n",
    "            \n",
    "def combo_enum_factory(enum_name, enum_vals_and_labels):\n",
    "    \"\"\"\n",
    "    \"\"\"\n",
    "    _enum_cls = enum.Enum(enum_name, tuple(enum_vals_and_labels.keys()), start=0)\n",
    "    desc = SignalWrapper(enum_name, signal_type=int)\n",
    "    class cls_():\n",
    "        def __init__(self, val):\n",
    "            super().__init__()\n",
    "            if isinstance(int, val):\n",
    "                self._value = _enum_cls(val)\n",
    "            else:\n",
    "                self._value = _enum_cls[val]\n",
    "    \n",
    "    setattr(cls_, '_model', tuple(enum_vals_and_labels.values()))\n",
    "    setattr(cls_, desc.signal_name, DummySignal(int))\n",
    "    setattr(cls_, 'value', desc)\n",
    "    return cls_"
   ]
  },
  {
   "cell_type": "code",
   "execution_count": null,
   "id": "4dcc25c5-178e-4f81-ba19-681d8a40ccce",
   "metadata": {},
   "outputs": [],
   "source": [
    "Blerg = combo_enum_factory(\"Blerg\", {\"A\": \"A text\", \"B\": \"B text\"})"
   ]
  },
  {
   "cell_type": "code",
   "execution_count": null,
   "id": "95f50dc1-38f6-4cf4-a9c1-e4326be70b6c",
   "metadata": {},
   "outputs": [],
   "source": [
    "bar = Blerg.A"
   ]
  },
  {
   "cell_type": "code",
   "execution_count": null,
   "id": "f207ebab-dc17-4e61-a884-eb911d6e1c19",
   "metadata": {},
   "outputs": [],
   "source": [
    "str(fooE(1))"
   ]
  },
  {
   "cell_type": "code",
   "execution_count": 15,
   "id": "f0a345f0-4eab-417a-a598-7bb96bde05a9",
   "metadata": {},
   "outputs": [],
   "source": [
    "Foo = enum.Enum(\"Foo\", \"A B C\")"
   ]
  },
  {
   "cell_type": "code",
   "execution_count": 16,
   "id": "38ceb459-88a7-447a-a6ff-1a610fb9a48c",
   "metadata": {},
   "outputs": [
    {
     "data": {
      "text/plain": [
       "enum.EnumMeta"
      ]
     },
     "execution_count": 16,
     "metadata": {},
     "output_type": "execute_result"
    }
   ],
   "source": [
    "type(Foo)"
   ]
  },
  {
   "cell_type": "code",
   "execution_count": 17,
   "id": "58ac5c54-3b0f-4d96-bbff-fdd579eea4eb",
   "metadata": {},
   "outputs": [],
   "source": [
    "foo = Foo.A"
   ]
  },
  {
   "cell_type": "code",
   "execution_count": 18,
   "id": "83510da6-8a12-4ec5-831a-d711ebd3d873",
   "metadata": {},
   "outputs": [
    {
     "data": {
      "text/plain": [
       "['__class__', '__doc__', '__module__', 'name', 'value']"
      ]
     },
     "execution_count": 18,
     "metadata": {},
     "output_type": "execute_result"
    }
   ],
   "source": [
    "dir(foo)"
   ]
  },
  {
   "cell_type": "code",
   "execution_count": 19,
   "id": "22d11347-a673-494c-bbf5-601cd5644761",
   "metadata": {},
   "outputs": [
    {
     "data": {
      "text/plain": [
       "'A'"
      ]
     },
     "execution_count": 19,
     "metadata": {},
     "output_type": "execute_result"
    }
   ],
   "source": [
    "foo.name"
   ]
  },
  {
   "cell_type": "code",
   "execution_count": 20,
   "id": "193f8cc8-8a6c-4214-b18b-b0de9736eceb",
   "metadata": {},
   "outputs": [
    {
     "data": {
      "text/plain": [
       "1"
      ]
     },
     "execution_count": 20,
     "metadata": {},
     "output_type": "execute_result"
    }
   ],
   "source": [
    "foo.value"
   ]
  },
  {
   "cell_type": "code",
   "execution_count": null,
   "id": "08df0ba8-abaf-4a8c-b191-5ffb9d447687",
   "metadata": {},
   "outputs": [],
   "source": []
  }
 ],
 "metadata": {
  "kernelspec": {
   "display_name": "comp_chem_2",
   "language": "python",
   "name": "comp_chem_2"
  },
  "language_info": {
   "codemirror_mode": {
    "name": "ipython",
    "version": 3
   },
   "file_extension": ".py",
   "mimetype": "text/x-python",
   "name": "python",
   "nbconvert_exporter": "python",
   "pygments_lexer": "ipython3",
   "version": "3.9.13"
  }
 },
 "nbformat": 4,
 "nbformat_minor": 5
}
