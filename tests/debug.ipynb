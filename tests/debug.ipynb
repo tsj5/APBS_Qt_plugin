{
 "cells": [
  {
   "cell_type": "markdown",
   "id": "27963715-33e1-479d-a66b-6e48d01f034c",
   "metadata": {},
   "source": [
    "## Imports"
   ]
  },
  {
   "cell_type": "code",
   "execution_count": 1,
   "id": "fb57539e-fc1a-488d-b6d2-94f5f3c62a6a",
   "metadata": {},
   "outputs": [],
   "source": [
    "from pymol.Qt import QtCore\n",
    "import attrs\n",
    "import os\n",
    "import pathlib\n",
    "from typing import Iterable\n",
    "import functools\n",
    "import enum\n",
    "\n",
    "PYQT_SIGNAL = QtCore.pyqtSignal\n",
    "PYQT_SLOT = QtCore.pyqtSlot\n",
    "PYQT_OBJECT = QtCore.QObject"
   ]
  },
  {
   "cell_type": "markdown",
   "id": "4b4eed24-1c74-4628-b878-a114123a1b48",
   "metadata": {},
   "source": [
    "## Dynamically generated signals"
   ]
  },
  {
   "cell_type": "markdown",
   "id": "0720ba00-5ae6-4932-96d5-242ff6195f48",
   "metadata": {
    "tags": []
   },
   "source": [
    "### Introspection"
   ]
  },
  {
   "cell_type": "code",
   "execution_count": 4,
   "id": "5a76ed90-9258-45d8-975b-9de451c5d116",
   "metadata": {},
   "outputs": [],
   "source": [
    "# from https://stackoverflow.com/a/57295098\n",
    "# apparently out of date\n",
    "\n",
    "def get_signals(source):\n",
    "    cls = source if isinstance(source, type) else type(source)\n",
    "    signal = type(QtCore.pyqtSignal())\n",
    "    for subcls in cls.mro():\n",
    "        clsname = f'{subcls.__module__}.{subcls.__name__}'\n",
    "        for key, value in sorted(vars(subcls).items()):\n",
    "            if isinstance(value, signal):\n",
    "                print(f'{key} [{clsname}]')\n",
    "\n",
    "def list_all_signals(obj):\n",
    "    attr_names = dir(obj)\n",
    "    attributes = (getattr(obj, attr_name) for attr_name in attr_names)\n",
    "    connectable = filter(lambda l: hasattr(l, \"connect\"), attributes)\n",
    "    return connectable\n",
    "\n",
    "class SignalListener(QtCore.QObject):\n",
    "    @QtCore.pyqtSlot()\n",
    "    def universal_slot(self, *args, **kwargs):\n",
    "        print(\"Signal caught\" + 30 * \"-\")\n",
    "        print(\"sender:\", self.sender())\n",
    "        meta_method = (\n",
    "            self.sender().metaObject().method(self.senderSignalIndex())\n",
    "        )\n",
    "        print(\"signal:\", meta_method.name())\n",
    "        print(\"signal signature:\", meta_method.methodSignature())\n",
    "\n",
    "SIGNAL_LISTENER = SignalListener()\n",
    "\n",
    "def spy_on_all_signals(obj, listener = SIGNAL_LISTENER):\n",
    "    for signal in list_all_signals(obj):\n",
    "        signal.connect(SIGNAL_LISTENER.universal_slot)"
   ]
  },
  {
   "cell_type": "markdown",
   "id": "6328a99f-82d7-43e4-bb11-854130e4d6d0",
   "metadata": {
    "jp-MarkdownHeadingCollapsed": true,
    "tags": []
   },
   "source": [
    "### Simplest case - no dynamic stuff"
   ]
  },
  {
   "cell_type": "code",
   "execution_count": null,
   "id": "efdf2510-6ce5-4cf6-a923-74400c596f90",
   "metadata": {},
   "outputs": [],
   "source": [
    "class TestModel0(QtCore.QObject):\n",
    "    _y_changed = QtCore.pyqtSignal(str, name=\"_y_changed\")\n",
    "    def __init__(self, y):\n",
    "        super(TestModel0, self).__init__()\n",
    "        self._y = y\n",
    "        \n",
    "    @property\n",
    "    def y(self):\n",
    "        return self._y\n",
    "    \n",
    "    @y.setter\n",
    "    def y(self, value):\n",
    "        self._y = value\n",
    "        print(\"set y\")\n",
    "        self._y_changed.emit(value)\n",
    "        print('done')\n",
    "\n",
    "class TestControl0(QtCore.QObject):\n",
    "    def __init__(self, model):\n",
    "        super(TestControl0, self).__init__()\n",
    "        self.model = model\n",
    "        self.model._y_changed.connect(self.on_y_changed)\n",
    "        \n",
    "    @QtCore.pyqtSlot(str)\n",
    "    def on_y_changed(self, val):\n",
    "        print(\"caught y changed\", val)\n",
    "        \n",
    "m0 = TestModel0(\"baz\")\n",
    "t0 = TestControl0(m0)"
   ]
  },
  {
   "cell_type": "code",
   "execution_count": null,
   "id": "60bbbb2d-dae0-4ed1-818e-38de145ee5e0",
   "metadata": {},
   "outputs": [],
   "source": [
    "m0.y = 'newstr'"
   ]
  },
  {
   "cell_type": "code",
   "execution_count": null,
   "id": "909db0fb-fa3d-49de-8029-3f449319140e",
   "metadata": {},
   "outputs": [],
   "source": [
    "class TestModel01(TestModel0):\n",
    "    pass\n",
    "\n",
    "hasattr(TestModel01, \"_y_changed\")"
   ]
  },
  {
   "cell_type": "code",
   "execution_count": null,
   "id": "9d4c2c7c-b556-4c6e-b105-db25c39341ee",
   "metadata": {},
   "outputs": [],
   "source": [
    "m01 = TestModel01(\"baz\")\n",
    "t01 = TestControl0(m01)"
   ]
  },
  {
   "cell_type": "code",
   "execution_count": null,
   "id": "dc8e06a7-ca3e-4434-bade-d95bb7eafc42",
   "metadata": {},
   "outputs": [],
   "source": [
    "m01.y = 'newstr'"
   ]
  },
  {
   "cell_type": "code",
   "execution_count": null,
   "id": "349ed218-34c0-480c-8c2b-fe3b7cde7c88",
   "metadata": {},
   "outputs": [],
   "source": [
    "m01.dumpObjectInfo()"
   ]
  },
  {
   "cell_type": "markdown",
   "id": "c20e18c2-afb1-49a5-828f-0b69df6fd996",
   "metadata": {
    "jp-MarkdownHeadingCollapsed": true,
    "tags": []
   },
   "source": [
    "### initial implementation of dynamic Signals - BROKEN"
   ]
  },
  {
   "cell_type": "code",
   "execution_count": null,
   "id": "aa4caa0c-a96d-4994-8ca9-0de771695789",
   "metadata": {},
   "outputs": [],
   "source": [
    "PYQT_SIGNAL = QtCore.pyqtSignal\n",
    "PYQT_SLOT = QtCore.pyqtSlot\n",
    "PYQT_OBJECT = QtCore.QObject\n",
    "\n",
    "class SignalWrapper():\n",
    "    \"\"\"Descriptor to automatically emit a pyqtSignal (assumed predefined)\n",
    "    on change of a model attribute.\n",
    "    \"\"\"\n",
    "    def __init__(self, name, signal_type=None):\n",
    "        self.__set_name__(None, name)\n",
    "        self.signal_type = signal_type\n",
    "\n",
    "    @staticmethod\n",
    "    def _private_from_public_name(name):\n",
    "        return '_' + name\n",
    "\n",
    "    @staticmethod\n",
    "    def _public_from_private_name(name):\n",
    "        assert name.startswith('_')\n",
    "        return name[1:]\n",
    "\n",
    "    @staticmethod\n",
    "    def _signal_from_public_name(name):\n",
    "        return '_' + name + '_changed'\n",
    "\n",
    "    def __set_name__(self, owner, name):\n",
    "        self.public_name = name\n",
    "        self.private_name = self._private_from_public_name(name)\n",
    "        self.signal_name = self._signal_from_public_name(name)\n",
    "\n",
    "    def __get__(self, obj, objtype=None):\n",
    "        if obj is None:\n",
    "            return self\n",
    "        return getattr(obj, self.private_name)\n",
    "\n",
    "    def __set__(self, obj, value):\n",
    "        \"\"\"Emit `signal_name` when value is changed to a new value (only.)\n",
    "        \"\"\"\n",
    "        old_value = getattr(obj, self.private_name)\n",
    "        try:\n",
    "            setattr(obj, self.private_name, value)\n",
    "            if old_value != value:\n",
    "                self._emit(obj, value)\n",
    "        except ValueError:\n",
    "            # if attrs validation fails, don't emit signal\n",
    "            raise\n",
    "\n",
    "    def _emit(self, obj, value=None):\n",
    "        \"\"\"Emit associated signal with current attribute value.\n",
    "        \"\"\"\n",
    "        try:\n",
    "            if value is None:\n",
    "                value = getattr(obj, self.private_name)\n",
    "            getattr(obj, self.signal_name).emit(self.signal_type(value))\n",
    "        except ValueError:\n",
    "            # if attrs validation fails, don't emit signal\n",
    "            raise"
   ]
  },
  {
   "cell_type": "code",
   "execution_count": null,
   "id": "d40a225d-9a1e-46a4-8712-61836bf34d7c",
   "metadata": {},
   "outputs": [],
   "source": [
    "def _attr_field_transformer(cls, fields):\n",
    "    \"\"\"Modify field definition process on attrs/dataclass in order to set up\n",
    "    signal and signal descriptor. The original field is mapped to `private_name`,\n",
    "    while the descriptor is assigned to the original `public_name`.\n",
    "\n",
    "    See https://www.attrs.org/en/stable/extending.html#automatic-field-transformation-and-modification.\n",
    "    \"\"\"\n",
    "    new_fields = []\n",
    "    for f in fields:\n",
    "        # really don't want to put all signal type-casting logic here\n",
    "        if attrs.has(f.type):\n",
    "            # don't create a descriptor/signal for attributes that are other\n",
    "            # Models (ie building up Model object through composition.)\n",
    "            continue\n",
    "\n",
    "        if isinstance(f.type, pathlib.Path):\n",
    "            signal_type = str\n",
    "        elif isinstance(f.type, enum.Enum):\n",
    "            signal_type = int\n",
    "        else:\n",
    "            signal_type = f.type\n",
    "\n",
    "        desc = SignalWrapper(f.name, signal_type)\n",
    "        renamed_f = f.evolve(name=desc.private_name)\n",
    "        new_fields.append(renamed_f)\n",
    "        setattr(cls, desc.public_name, desc)\n",
    "        setattr(cls, desc.signal_name, PYQT_SIGNAL(signal_type, name=desc.signal_name))\n",
    "    return new_fields\n",
    "\n",
    "def attrs_define_w_signals(cls=None, **deco_kwargs):\n",
    "    \"\"\"Wrap the attrs.define() class decorator to automatically invoke\n",
    "    `_attr_field_transformer`, to automatically define and emit signals when the\n",
    "    values of the fields of `cls` are changed.\n",
    "    \"\"\"\n",
    "    deco_kwargs.update({\"slots\":False, \"field_transformer\":_attr_field_transformer})\n",
    "    if cls is None:\n",
    "        # decorator called without arguments\n",
    "        return functools.partial(attrs_define_w_signals, **deco_kwargs)\n",
    "\n",
    "    # check that the class we're decorating is capable of emitting Signals\n",
    "    # assert any(issubclass(cls_, PYQT_OBJECT) for cls_ in cls.__mro__)\n",
    "\n",
    "    # attrs auto-generates an __init__ method; need to manually ensure that\n",
    "    # super() is called.\n",
    "    # https://www.attrs.org/en/stable/init.html#hooking-yourself-into-initialization\n",
    "    def _pre_init(self):\n",
    "        super(cls, self).__init__()\n",
    "    setattr(cls, \"__attrs_pre_init__\", _pre_init)\n",
    "\n",
    "    # hacky but necessary way to sync up associated Views with the Model. Model\n",
    "    # needs to be instantiated before it's connect()ed to views, but this means\n",
    "    # views don't know about inital values of model fields. To fix this, provide\n",
    "    # a method to manually fire all _*_changed signals for all model fields.\n",
    "    def _on_connect(self):\n",
    "        cls_ = type(self)\n",
    "        for f in attrs.fields(cls_):\n",
    "            private_name = f.name # _attr_field_transformer remapped names\n",
    "            public_name = SignalWrapper._public_from_private_name(private_name)\n",
    "            signal_name = SignalWrapper._signal_from_public_name(public_name)\n",
    "            if hasattr(cls_, signal_name):\n",
    "                # descriptors are class attributes; call method on the class\n",
    "                getattr(cls_, public_name)._emit(self)\n",
    "    setattr(cls, \"on_connect\", _on_connect)\n",
    "\n",
    "    # apply the attrs dataclass decorator, with descriptors and signals assigned\n",
    "    # according to _attr_field_transformer()\n",
    "    return attrs.define(cls, **deco_kwargs)"
   ]
  },
  {
   "cell_type": "code",
   "execution_count": null,
   "id": "e6a5be93-79ed-4ef1-bf0d-608e7035aae4",
   "metadata": {},
   "outputs": [],
   "source": [
    "@attrs_define_w_signals\n",
    "class TestModel1(PYQT_OBJECT):\n",
    "    y:str\n",
    "    \n",
    "m1 = TestModel1(y=\"foo\")\n",
    "[print(s) for s in list_all_signals(m1)]"
   ]
  },
  {
   "cell_type": "code",
   "execution_count": null,
   "id": "b49c4bad-0704-4694-94bc-36edba458227",
   "metadata": {},
   "outputs": [],
   "source": [
    "spy_on_all_signals(m1)"
   ]
  },
  {
   "cell_type": "code",
   "execution_count": null,
   "id": "029f8375-ecaa-43a9-a49e-ec6afffccfed",
   "metadata": {},
   "outputs": [],
   "source": [
    "class TestControl1(PYQT_OBJECT):\n",
    "    def __init__(self, model):\n",
    "        super(TestControl1, self).__init__()\n",
    "        self.model = model\n",
    "        self.model._y_changed.connect(self.on_y_changed)\n",
    "        \n",
    "    @PYQT_SLOT(str)\n",
    "    def on_y_changed(self, val):\n",
    "        print(\"caught y changed\", val)\n",
    "\n",
    "t1 = TestControl1(m1)"
   ]
  },
  {
   "cell_type": "code",
   "execution_count": null,
   "id": "cb860d05-8b6d-424d-a112-8fec1bae4479",
   "metadata": {},
   "outputs": [],
   "source": [
    "m1.y = \"blerg\""
   ]
  },
  {
   "cell_type": "code",
   "execution_count": null,
   "id": "b9c62a20-5359-47e1-ad25-7ce34af56d79",
   "metadata": {},
   "outputs": [],
   "source": [
    "m1.dumpObjectInfo()"
   ]
  },
  {
   "cell_type": "code",
   "execution_count": null,
   "id": "0258cd7b-cb1c-4667-bf11-b5f2ae4f2120",
   "metadata": {},
   "outputs": [],
   "source": [
    "\n",
    "class TestModel11(TestModel1):\n",
    "    pass\n",
    "print(hasattr(TestModel1, \"_y_changed\"), hasattr(TestModel11, \"_y_changed\"))"
   ]
  },
  {
   "cell_type": "code",
   "execution_count": null,
   "id": "b6505e12-e69b-441e-8faa-a52e721fb680",
   "metadata": {},
   "outputs": [],
   "source": [
    "m11 = TestModel11(y=\"foo\")"
   ]
  },
  {
   "cell_type": "code",
   "execution_count": null,
   "id": "68fc5353-98bf-430c-86bb-376379557edf",
   "metadata": {},
   "outputs": [],
   "source": [
    "m11.dumpObjectInfo()"
   ]
  },
  {
   "cell_type": "code",
   "execution_count": null,
   "id": "30bb5c71-bd6d-464a-bcf1-d40b2f7065d1",
   "metadata": {},
   "outputs": [],
   "source": [
    "type(TestModel11)"
   ]
  },
  {
   "cell_type": "code",
   "execution_count": null,
   "id": "c67e0034-06d7-4de4-a836-a3d6481ca9b9",
   "metadata": {},
   "outputs": [],
   "source": [
    "@attrs_define_w_signals\n",
    "class TestModel12():\n",
    "    y:str\n",
    "    \n",
    "class TestModel13(QtCore.QObject, TestModel12):\n",
    "    pass"
   ]
  },
  {
   "cell_type": "code",
   "execution_count": null,
   "id": "b3dac76e-a9c4-47e7-a3ea-5d2da68e2e70",
   "metadata": {},
   "outputs": [],
   "source": [
    "print(hasattr(TestModel13, \"_y_changed\"))\n",
    "m13 = TestModel13(y=\"foo\")\n",
    "m13.dumpObjectInfo()"
   ]
  },
  {
   "cell_type": "markdown",
   "id": "1f274bdc-75ee-495d-acf9-1a01dd975edd",
   "metadata": {},
   "source": [
    "### Second try: metaclass implementation"
   ]
  },
  {
   "cell_type": "markdown",
   "id": "ae3d7d57-329b-4e19-b207-61bea4a36a37",
   "metadata": {},
   "source": [
    "Based on https://stackoverflow.com/a/66266877"
   ]
  },
  {
   "cell_type": "code",
   "execution_count": null,
   "id": "ee45e0e5-41a5-48dc-befe-b20025ccfb00",
   "metadata": {},
   "outputs": [],
   "source": [
    "class TestMetaclass(type(object)):\n",
    "    def __new__(cls, name, bases, attrs_):\n",
    "        print(attrs_)\n",
    "        return super().__new__(cls, name, bases, attrs_)\n",
    "    \n",
    "@attrs.define\n",
    "class TestAttrsClass(metaclass=TestMetaclass):\n",
    "    x: int\n",
    "    y: str"
   ]
  },
  {
   "cell_type": "markdown",
   "id": "edffce9c-859a-4012-982d-c8a7367de00f",
   "metadata": {},
   "source": [
    "So custom metaclass *does* get called after decorator, apparently only if no decorator kwargs."
   ]
  },
  {
   "cell_type": "code",
   "execution_count": null,
   "id": "d10dfcc1-598a-4bb6-92ae-39286ae4e76e",
   "metadata": {},
   "outputs": [],
   "source": [
    "attrs.fields(TestAttrsClass)"
   ]
  },
  {
   "cell_type": "code",
   "execution_count": 50,
   "id": "0464b1f7-24b6-4ea0-8ca1-1aec85df8218",
   "metadata": {},
   "outputs": [],
   "source": [
    "class PropertyWrapper(QtCore.pyqtProperty):\n",
    "    \"\"\"Property implementation: gets, sets, and notifies of change.\"\"\"\n",
    "    def __init__(self, type_, name, notify):\n",
    "        super().__init__(type_, self.getter, self.setter, notify=notify)\n",
    "        self.name = name\n",
    "        self.signal_type = type_\n",
    "        \n",
    "    @staticmethod\n",
    "    def _private_from_public_name(name):\n",
    "        return '_' + name.lstrip('_')\n",
    "\n",
    "    @staticmethod\n",
    "    def _public_from_private_name(name):\n",
    "        assert name.startswith('_')\n",
    "        return name.lstrip('_')\n",
    "\n",
    "    @staticmethod\n",
    "    def _signal_from_public_name(name):\n",
    "        return '_' + name.lstrip('_') + '_changed'\n",
    "    \n",
    "    @staticmethod\n",
    "    def _signal_from_private_name(name):\n",
    "        return '_' + name.lstrip('_') + '_changed'\n",
    "    \n",
    "    @property\n",
    "    def private_name(self):\n",
    "        return self._private_from_public_name(self.name)\n",
    "    \n",
    "    @property\n",
    "    def signal_name(self):\n",
    "        return self._signal_from_public_name(self.name)\n",
    "\n",
    "    def getter(self, instance):\n",
    "        return getattr(instance, self.private_name)\n",
    "\n",
    "    def setter(self, instance, value):\n",
    "        signal = getattr(instance, self.signal_name)\n",
    "        if type(value) in (list, dict):\n",
    "            value = _MAKE_NOTIFIED(value, signal)\n",
    "            signal.emit(value)\n",
    "        else:\n",
    "            # coerce from field value\n",
    "            old_value = self.signal_type(getattr(instance, self.private_name))\n",
    "            if old_value != value:\n",
    "                signal.emit(self.signal_type(value)) # may be redundant\n",
    "        setattr(instance, self.private_name, value)\n",
    "\n",
    "def _attr_field_transformer(cls, fields):\n",
    "    \"\"\"Modify field definition process on attrs/dataclass in order to set up\n",
    "    signal and signal descriptor. The original field is mapped to `private_name`,\n",
    "    while the descriptor is assigned to the original `public_name`.\n",
    "\n",
    "    See https://www.attrs.org/en/stable/extending.html#automatic-field-transformation-and-modification.\n",
    "    \"\"\"\n",
    "    new_fields = []\n",
    "    for f in fields:\n",
    "        assert not attrs.has(f.type)\n",
    "            # don't create a descriptor/signal for attributes that are other\n",
    "            # Models (ie building up Model object through composition.)\n",
    "            # currently can't handle this case.\n",
    "        private_name = PropertyWrapper._private_from_public_name(f.name)\n",
    "        new_fields.append(f.evolve(name=private_name))\n",
    "    return new_fields\n",
    "\n",
    "def attrs_define(cls=None, **deco_kwargs):\n",
    "    deco_kwargs.update({\"slots\":True, \"field_transformer\":_attr_field_transformer})\n",
    "    if cls is None:\n",
    "        # decorator called without arguments\n",
    "        return functools.partial(attrs_define, **deco_kwargs)\n",
    "\n",
    "    # attrs auto-generates an __init__ method; need to manually ensure that\n",
    "    # super() is called.\n",
    "    # https://www.attrs.org/en/stable/init.html#hooking-yourself-into-initialization\n",
    "    def _pre_init(self):\n",
    "        QtCore.QObject.__init__(self)\n",
    "    setattr(cls, \"__attrs_pre_init__\", _pre_init)\n",
    "\n",
    "    # apply the attrs dataclass decorator, with descriptors and signals assigned\n",
    "    # according to _attr_field_transformer()\n",
    "    return attrs.define(cls, **deco_kwargs)\n",
    "\n",
    "_AUTOSIGNAL_TYPE_COERCE = {\n",
    "    list: 'QVariantList', dict: 'QVariantMap',\n",
    "    pathlib.Path: str,\n",
    "    enum.Enum: int\n",
    "}\n",
    "\n",
    "class AutoSignalMetaclass(type(QtCore.QObject)):\n",
    "    \"\"\"Lets a class succinctly define Qt properties.\"\"\"\n",
    "    def __new__(cls, name, bases, attrs_):\n",
    "        if '__attrs_attrs__' not in attrs_:\n",
    "            print(\"test2\")\n",
    "            # first call, before attrs decorator; ordinary Object behavior\n",
    "            return type.__new__(cls, name, bases, attrs_)\n",
    "        \n",
    "        print(\"test\")\n",
    "        # If we get here, attrs decorator has done its work\n",
    "        for f in attrs_['__attrs_attrs__']:\n",
    "            signal_type = _AUTOSIGNAL_TYPE_COERCE.get(f.type, f.type)\n",
    "            \n",
    "            private_name = f.name # _attr_field_transformer remapped names\n",
    "            public_name = PropertyWrapper._public_from_private_name(private_name)\n",
    "            signal_name = PropertyWrapper._signal_from_public_name(public_name)\n",
    "            print(f'\\tAdding signal {signal_name} {signal_type}')\n",
    "            signal = QtCore.pyqtSignal(signal_type, name=signal_name)\n",
    "            attrs_[signal_name] = signal\n",
    "            attrs_[public_name] = PropertyWrapper(type_=signal_type, name=public_name, notify=signal)\n",
    "    \n",
    "        # hacky but necessary way to sync up associated Views with the Model. Model\n",
    "        # needs to be instantiated before it's connect()ed to views, but this means\n",
    "        # views don't know about inital values of model fields. To fix this, provide\n",
    "        # a method to manually fire all _*_changed signals for all model fields.\n",
    "        def _on_connect(self):\n",
    "            cls_ = type(self)\n",
    "            for f in attrs.fields(cls_):\n",
    "                private_name = f.name # _attr_field_transformer remapped names\n",
    "                public_name = PropertyWrapper._public_from_private_name(private_name)\n",
    "                signal_name = PropertyWrapper._signal_from_public_name(public_name)\n",
    "                if hasattr(cls_, signal_name):\n",
    "                    # signals are class attributes BUT need to call emit() on the instance\n",
    "                    value = getattr(self, public_name)\n",
    "                    getattr(self, signal_name).emit(value)\n",
    "        attrs_[\"on_connect\"] = _on_connect\n",
    "            \n",
    "        return super().__new__(cls, name, bases, attrs_)"
   ]
  },
  {
   "cell_type": "code",
   "execution_count": 51,
   "id": "b6ecb8d9-94c4-44b5-85d0-2a21c27a3018",
   "metadata": {},
   "outputs": [
    {
     "name": "stdout",
     "output_type": "stream",
     "text": [
      "test2\n",
      "test\n",
      "\tAdding signal _x_changed <class 'int'>\n",
      "\tAdding signal _y_changed <class 'str'>\n",
      "<bound PYQT_SIGNAL _x_changed of TestModel2 object at 0x1188c77c0>\n",
      "<bound PYQT_SIGNAL _y_changed of TestModel2 object at 0x1188c77c0>\n",
      "<bound PYQT_SIGNAL destroyed of TestModel2 object at 0x1188c77c0>\n",
      "<bound PYQT_SIGNAL objectNameChanged of TestModel2 object at 0x1188c77c0>\n"
     ]
    },
    {
     "data": {
      "text/plain": [
       "[None, None, None, None]"
      ]
     },
     "execution_count": 51,
     "metadata": {},
     "output_type": "execute_result"
    }
   ],
   "source": [
    "@attrs_define\n",
    "class TestModel2(QtCore.QObject, metaclass=AutoSignalMetaclass):\n",
    "    x:int\n",
    "    y:str\n",
    "    \n",
    "m2 = TestModel2(x=2, y=\"foo\")\n",
    "[print(s) for s in list_all_signals(m2)]"
   ]
  },
  {
   "cell_type": "code",
   "execution_count": 52,
   "id": "6650bc5d-68cb-49af-a544-607f6ddf3657",
   "metadata": {},
   "outputs": [],
   "source": [
    "class TestControl2(QtCore.QObject):\n",
    "    def __init__(self, model):\n",
    "        super(TestControl2, self).__init__()\n",
    "        self.model = model\n",
    "        self.model._y_changed.connect(self.on_y_changed)\n",
    "        \n",
    "    @PYQT_SLOT(str)\n",
    "    def on_y_changed(self, val):\n",
    "        print(\"caught y changed\", val)\n",
    "\n",
    "t2 = TestControl2(m2)"
   ]
  },
  {
   "cell_type": "code",
   "execution_count": 53,
   "id": "b37f5ef9-85f9-4761-9d2c-4334efeb0e0c",
   "metadata": {},
   "outputs": [
    {
     "name": "stdout",
     "output_type": "stream",
     "text": [
      "caught y changed now test\n"
     ]
    }
   ],
   "source": [
    "m2.y = \"now test\""
   ]
  },
  {
   "cell_type": "code",
   "execution_count": 54,
   "id": "47b340c4-f721-4db0-b99a-dea17e9b7427",
   "metadata": {},
   "outputs": [
    {
     "name": "stdout",
     "output_type": "stream",
     "text": [
      "caught y changed now test\n"
     ]
    }
   ],
   "source": [
    "m2.on_connect()"
   ]
  },
  {
   "cell_type": "code",
   "execution_count": 55,
   "id": "d886650a-5026-4610-92e1-8de6b3f60f6e",
   "metadata": {},
   "outputs": [
    {
     "name": "stdout",
     "output_type": "stream",
     "text": [
      "caught y changed arf\n"
     ]
    }
   ],
   "source": [
    "m2._y_changed.emit(\"arf\")"
   ]
  },
  {
   "cell_type": "code",
   "execution_count": 56,
   "id": "39bd8e7d-a1b1-4889-b28c-e6b8c3e5ca81",
   "metadata": {},
   "outputs": [],
   "source": [
    "# now add list/dict mutability signals from SO\n",
    "class MakeNotified:\n",
    "    \"\"\"Adds notifying signals to lists and dictionaries.\n",
    "    \n",
    "    Creates the modified classes just once, on initialization.\n",
    "    \"\"\"\n",
    "    change_methods = {\n",
    "        list: ['__delitem__', '__iadd__', '__imul__', '__setitem__', 'append',\n",
    "               'extend', 'insert', 'pop', 'remove', 'reverse', 'sort'],\n",
    "        dict: ['__delitem__', '__ior__', '__setitem__', 'clear', 'pop',\n",
    "               'popitem', 'setdefault', 'update']\n",
    "    }\n",
    "    \n",
    "    def __init__(self):\n",
    "        if not hasattr(dict, '__ior__'):\n",
    "            # Dictionaries don't have | operator in Python < 3.9.\n",
    "            self.change_methods[dict].remove('__ior__')\n",
    "        self.notified_class = {type_: self.make_notified_class(type_)\n",
    "                               for type_ in [list, dict]}\n",
    "    \n",
    "    def __call__(self, seq, signal):\n",
    "        \"\"\"Returns a notifying version of the supplied list or dict.\"\"\"\n",
    "        notified_class = self.notified_class[type(seq)]\n",
    "        notified_seq = notified_class(seq)\n",
    "        notified_seq.signal = signal\n",
    "        return notified_seq\n",
    "    \n",
    "    @classmethod\n",
    "    def make_notified_class(cls, parent):\n",
    "        notified_class = type(f'notified_{parent.__name__}', (parent,), {})\n",
    "        for method_name in cls.change_methods[parent]:\n",
    "            original = getattr(notified_class, method_name)\n",
    "            notified_method = cls.make_notified_method(original, parent)\n",
    "            setattr(notified_class, method_name, notified_method)\n",
    "        return notified_class\n",
    "    \n",
    "    @staticmethod\n",
    "    def make_notified_method(method, parent):\n",
    "        @functools.wraps(method)\n",
    "        def notified_method(self, *args, **kwargs):\n",
    "            result = getattr(parent, method.__name__)(self, *args, **kwargs)\n",
    "            self.signal.emit(self)\n",
    "            return result\n",
    "        return notified_method\n",
    "\n",
    "_MAKE_NOTIFIED = MakeNotified()"
   ]
  },
  {
   "cell_type": "code",
   "execution_count": 37,
   "id": "cb40f8ce-29c3-4418-8eb4-d9fa535a807a",
   "metadata": {},
   "outputs": [
    {
     "name": "stdout",
     "output_type": "stream",
     "text": [
      "test2\n",
      "test\n",
      "\tAdding signal _y_changed <class 'str'>\n",
      "\tAdding signal _x_changed <class 'list'>\n",
      "<bound PYQT_SIGNAL _x_changed of TestModel3 object at 0x117d20860>\n",
      "<bound PYQT_SIGNAL _y_changed of TestModel3 object at 0x117d20860>\n",
      "<bound PYQT_SIGNAL destroyed of TestModel3 object at 0x117d20860>\n",
      "<bound PYQT_SIGNAL objectNameChanged of TestModel3 object at 0x117d20860>\n"
     ]
    },
    {
     "data": {
      "text/plain": [
       "[None, None, None, None]"
      ]
     },
     "execution_count": 37,
     "metadata": {},
     "output_type": "execute_result"
    }
   ],
   "source": [
    "@attrs_define\n",
    "class TestModel3(QtCore.QObject, metaclass=AutoSignalMetaclass):\n",
    "    y:str\n",
    "    x:list = attrs.Factory(list) # list[int] not handled correctly\n",
    "    \n",
    "m3 = TestModel3(y=\"foo\", x=[1,2])\n",
    "[print(s) for s in list_all_signals(m3)]"
   ]
  },
  {
   "cell_type": "code",
   "execution_count": 38,
   "id": "cae28f4f-f28b-412c-b251-0f9d0df7c727",
   "metadata": {},
   "outputs": [],
   "source": [
    "class TestControl3(QtCore.QObject):\n",
    "    def __init__(self, model):\n",
    "        super(TestControl3, self).__init__()\n",
    "        self.model = model\n",
    "        self.model._y_changed.connect(self.on_y_changed)\n",
    "        self.model._x_changed.connect(self.on_x_changed)\n",
    "        \n",
    "    @PYQT_SLOT(str)\n",
    "    def on_y_changed(self, val):\n",
    "        print(\"caught y changed\", val)\n",
    "        \n",
    "    @PYQT_SLOT(list)\n",
    "    def on_x_changed(self, val):\n",
    "        print(\"caught x changed\", val)\n",
    "\n",
    "t3 = TestControl3(m3)"
   ]
  },
  {
   "cell_type": "code",
   "execution_count": 39,
   "id": "03db3510-a45b-4bae-8d0f-12fce2ed84d9",
   "metadata": {},
   "outputs": [
    {
     "name": "stdout",
     "output_type": "stream",
     "text": [
      "caught y changed test 1\n"
     ]
    }
   ],
   "source": [
    "m3.y = \"test 1\""
   ]
  },
  {
   "cell_type": "code",
   "execution_count": 40,
   "id": "41c495d1-b85e-45de-b0c0-a81ac5ffe118",
   "metadata": {},
   "outputs": [
    {
     "name": "stdout",
     "output_type": "stream",
     "text": [
      "caught x changed [4, 5]\n"
     ]
    }
   ],
   "source": [
    "m3.x = [4,5]"
   ]
  },
  {
   "cell_type": "code",
   "execution_count": 41,
   "id": "636f6a38-d67c-4c0c-a71a-4997b703ab67",
   "metadata": {},
   "outputs": [
    {
     "name": "stdout",
     "output_type": "stream",
     "text": [
      "caught x changed [4, 5, 6]\n"
     ]
    }
   ],
   "source": [
    "m3.x.append(6)"
   ]
  },
  {
   "cell_type": "code",
   "execution_count": 42,
   "id": "353323f2-b0d0-4047-8a52-1adb3b43cb38",
   "metadata": {},
   "outputs": [
    {
     "name": "stdout",
     "output_type": "stream",
     "text": [
      "caught x changed [420, 5, 6]\n"
     ]
    }
   ],
   "source": [
    "m3.x[0] = 420"
   ]
  },
  {
   "cell_type": "code",
   "execution_count": 43,
   "id": "799cafb3-836f-4c78-b2ef-035aadc59109",
   "metadata": {},
   "outputs": [
    {
     "name": "stdout",
     "output_type": "stream",
     "text": [
      "caught y changed test 1\n",
      "caught x changed [420, 5, 6]\n"
     ]
    }
   ],
   "source": [
    "m3.on_connect()"
   ]
  },
  {
   "cell_type": "markdown",
   "id": "bd8ce724-9e4f-4444-8d5a-176633420cb6",
   "metadata": {},
   "source": [
    "Now test inheritance (no multiple inheritance)"
   ]
  },
  {
   "cell_type": "code",
   "execution_count": 44,
   "id": "9f224906-94e2-4484-85a9-38077baaeaf3",
   "metadata": {},
   "outputs": [
    {
     "name": "stdout",
     "output_type": "stream",
     "text": [
      "test2\n",
      "test\n",
      "\tAdding signal _y_changed <class 'str'>\n",
      "\tAdding signal _x_changed <class 'list'>\n",
      "\tAdding signal _z_changed <class 'int'>\n",
      "<bound PYQT_SIGNAL _x_changed of TestModel4 object at 0x1188c7040>\n",
      "<bound PYQT_SIGNAL _y_changed of TestModel4 object at 0x1188c7040>\n",
      "<bound PYQT_SIGNAL _z_changed of TestModel4 object at 0x1188c7040>\n",
      "<bound PYQT_SIGNAL destroyed of TestModel4 object at 0x1188c7040>\n",
      "<bound PYQT_SIGNAL objectNameChanged of TestModel4 object at 0x1188c7040>\n"
     ]
    }
   ],
   "source": [
    "@attrs_define\n",
    "class TestModel4(TestModel3):\n",
    "    z:int = 0\n",
    "    \n",
    "m4 = TestModel4(y=\"foo\", x=[1,2], z=7)\n",
    "[print(s) for s in list_all_signals(m4)]\n",
    "\n",
    "t4 = TestControl3(m4)"
   ]
  },
  {
   "cell_type": "code",
   "execution_count": 48,
   "id": "886dec8e-e2e5-4016-ac42-24e956910793",
   "metadata": {},
   "outputs": [
    {
     "name": "stdout",
     "output_type": "stream",
     "text": [
      "caught y changed test inherit\n"
     ]
    }
   ],
   "source": [
    "m4.y = \"test inherit\""
   ]
  },
  {
   "cell_type": "code",
   "execution_count": 49,
   "id": "2b525188-223d-4a84-bf41-da049c813356",
   "metadata": {},
   "outputs": [
    {
     "name": "stdout",
     "output_type": "stream",
     "text": [
      "caught x changed [4, 5]\n"
     ]
    }
   ],
   "source": [
    "m4.x = [4,5]"
   ]
  },
  {
   "cell_type": "code",
   "execution_count": 45,
   "id": "0d6a9bb0-6bab-4128-98c6-ef4859813b42",
   "metadata": {},
   "outputs": [
    {
     "data": {
      "text/plain": [
       "(False, False)"
      ]
     },
     "execution_count": 45,
     "metadata": {},
     "output_type": "execute_result"
    }
   ],
   "source": [
    "(hasattr(m4, '_TestModel4__x'), '_TestModel4__x' in m4.__dict__)"
   ]
  },
  {
   "cell_type": "code",
   "execution_count": 46,
   "id": "eec603ac-91e8-4cf4-a99b-4c58d0d89643",
   "metadata": {},
   "outputs": [
    {
     "data": {
      "text/plain": [
       "False"
      ]
     },
     "execution_count": 46,
     "metadata": {},
     "output_type": "execute_result"
    }
   ],
   "source": [
    "'_TestModel4__x' in dir(m4)"
   ]
  },
  {
   "cell_type": "code",
   "execution_count": 22,
   "id": "f88b0505-a164-42f5-a287-13807b0a26f7",
   "metadata": {},
   "outputs": [
    {
     "data": {
      "text/plain": [
       "(Attribute(name='__y', default=NOTHING, validator=None, repr=True, eq=True, eq_key=None, order=True, order_key=None, hash=None, init=True, metadata=mappingproxy({}), type=<class 'str'>, converter=None, kw_only=False, inherited=True, on_setattr=None),\n",
       " Attribute(name='__x', default=Factory(factory=<class 'list'>, takes_self=False), validator=None, repr=True, eq=True, eq_key=None, order=True, order_key=None, hash=None, init=True, metadata=mappingproxy({}), type=<class 'list'>, converter=None, kw_only=False, inherited=True, on_setattr=None),\n",
       " Attribute(name='_z', default=0, validator=None, repr=True, eq=True, eq_key=None, order=True, order_key=None, hash=None, init=True, metadata=mappingproxy({}), type=<class 'int'>, converter=None, kw_only=False, inherited=False, on_setattr=None))"
      ]
     },
     "execution_count": 22,
     "metadata": {},
     "output_type": "execute_result"
    }
   ],
   "source": [
    "TestModel4.__attrs_attrs__"
   ]
  },
  {
   "cell_type": "code",
   "execution_count": 25,
   "id": "688852c9-bf4e-4f9a-aa14-50a73957e9d2",
   "metadata": {},
   "outputs": [
    {
     "data": {
      "text/plain": [
       "(__main__.PropertyWrapper, __main__.PropertyWrapper)"
      ]
     },
     "execution_count": 25,
     "metadata": {},
     "output_type": "execute_result"
    }
   ],
   "source": [
    "(type(TestModel4.x), type(TestModel4._x))"
   ]
  },
  {
   "cell_type": "code",
   "execution_count": 26,
   "id": "bdf5168c-e0fb-4b00-ba12-8ec91a8b7fc3",
   "metadata": {},
   "outputs": [
    {
     "data": {
      "text/plain": [
       "(__main__.PropertyWrapper, member_descriptor)"
      ]
     },
     "execution_count": 26,
     "metadata": {},
     "output_type": "execute_result"
    }
   ],
   "source": [
    "(type(TestModel3.x), type(TestModel3._x))"
   ]
  },
  {
   "cell_type": "code",
   "execution_count": 28,
   "id": "ed7a23c2-0343-468c-b63c-fd4b1a9e806d",
   "metadata": {},
   "outputs": [
    {
     "data": {
      "text/plain": [
       "mappingproxy({'__module__': '__main__',\n",
       "              '__annotations__': {'z': int},\n",
       "              'z': <__main__.PropertyWrapper at 0x117d19ec0>,\n",
       "              '__doc__': None,\n",
       "              '__attrs_pre_init__': <function __main__.attrs_define.<locals>._pre_init(self)>,\n",
       "              '__attrs_attrs__': (Attribute(name='__y', default=NOTHING, validator=None, repr=True, eq=True, eq_key=None, order=True, order_key=None, hash=None, init=True, metadata=mappingproxy({}), type=<class 'str'>, converter=None, kw_only=False, inherited=True, on_setattr=None),\n",
       "               Attribute(name='__x', default=Factory(factory=<class 'list'>, takes_self=False), validator=None, repr=True, eq=True, eq_key=None, order=True, order_key=None, hash=None, init=True, metadata=mappingproxy({}), type=<class 'list'>, converter=None, kw_only=False, inherited=True, on_setattr=None),\n",
       "               Attribute(name='_z', default=0, validator=None, repr=True, eq=True, eq_key=None, order=True, order_key=None, hash=None, init=True, metadata=mappingproxy({}), type=<class 'int'>, converter=None, kw_only=False, inherited=False, on_setattr=None)),\n",
       "              '__getstate__': <function attr._make._ClassBuilder._make_getstate_setstate.<locals>.slots_getstate(self)>,\n",
       "              '__setstate__': <function attr._make._ClassBuilder._make_getstate_setstate.<locals>.slots_setstate(self, state)>,\n",
       "              '__repr__': <function __main__.TestModel4.__repr__(self)>,\n",
       "              '__eq__': <function __main__.TestModel4.__eq__(self, other)>,\n",
       "              '__ne__': <function __main__.TestModel4.__ne__(self, other)>,\n",
       "              '__hash__': None,\n",
       "              '__init__': <function __main__.TestModel4.__init__(self, y: str, x: list = NOTHING, z: int = 0) -> None>,\n",
       "              '__attrs_own_setattr__': False,\n",
       "              '__slots__': ('__y', '__x', '_z'),\n",
       "              '__y_changed': <unbound PYQT_SIGNAL __y_changed(QString)>,\n",
       "              '_y': <__main__.PropertyWrapper at 0x117d19cc0>,\n",
       "              '__x_changed': <unbound PYQT_SIGNAL __x_changed(QVariantList)>,\n",
       "              '_x': <__main__.PropertyWrapper at 0x117d19dc0>,\n",
       "              '_z_changed': <unbound PYQT_SIGNAL _z_changed(int)>,\n",
       "              'on_connect': <function __main__.AutoSignalMetaclass.__new__.<locals>._on_connect(self)>,\n",
       "              '_TestModel4__x': <member '_TestModel4__x' of 'TestModel4' objects>,\n",
       "              '_TestModel4__y': <member '_TestModel4__y' of 'TestModel4' objects>,\n",
       "              '_z': <member '_z' of 'TestModel4' objects>})"
      ]
     },
     "execution_count": 28,
     "metadata": {},
     "output_type": "execute_result"
    }
   ],
   "source": [
    "TestModel4.__dict__"
   ]
  },
  {
   "cell_type": "code",
   "execution_count": null,
   "id": "7633b0a1-7ce2-4b7a-a02a-8e5ff24a0468",
   "metadata": {},
   "outputs": [],
   "source": [
    "class BaseController(PYQT_QOBJECT):\n",
    "    \"\"\"Base class for our Controller classes.\n",
    "    \"\"\"\n",
    "    def __init__(self, model, view):\n",
    "        super(BaseController, self).__init__()\n",
    "        self.model = model\n",
    "        self.view = view\n",
    "        \n",
    "    @class"
   ]
  },
  {
   "cell_type": "code",
   "execution_count": null,
   "id": "219338b7-2c35-4295-b333-a747ca2ec6c5",
   "metadata": {},
   "outputs": [],
   "source": []
  },
  {
   "cell_type": "code",
   "execution_count": null,
   "id": "37dd8e09-8035-4793-8afd-a7c450221515",
   "metadata": {},
   "outputs": [],
   "source": []
  },
  {
   "cell_type": "code",
   "execution_count": null,
   "id": "1ed38417-24dd-4d85-a927-c461e3158dad",
   "metadata": {},
   "outputs": [],
   "source": [
    "\n",
    "t4 = TestControl3(m4)\n",
    "m4.on_connect()"
   ]
  },
  {
   "cell_type": "code",
   "execution_count": null,
   "id": "bbd8971d-3fa6-401d-84d8-1227ede3ed39",
   "metadata": {},
   "outputs": [],
   "source": [
    "from enum import Enum\n",
    "\n",
    "class TestEnum(QtCore.QMetaEnum):\n",
    "    North, East, South, West = range(4)\n",
    "\n",
    "class Bar2(QtCore.QObject, TestEnum):    \n",
    "    QtCore.Q_ENUM(TestEnum)"
   ]
  },
  {
   "cell_type": "code",
   "execution_count": null,
   "id": "52f79ac7-7485-43d0-a3c1-198ca02ba544",
   "metadata": {},
   "outputs": [],
   "source": [
    "blerg = TestEnum(2)\n",
    "str(blerg)"
   ]
  },
  {
   "cell_type": "code",
   "execution_count": null,
   "id": "7b5502a7-895e-4b73-a488-a368e3aff404",
   "metadata": {},
   "outputs": [],
   "source": [
    "\n",
    "get_signals(TestEnum)\n",
    "get_signals(blerg)"
   ]
  },
  {
   "cell_type": "code",
   "execution_count": null,
   "id": "9c0557e6-a00e-4540-84f9-c5122ce02a74",
   "metadata": {},
   "outputs": [],
   "source": [
    "bar = Bar(3)"
   ]
  },
  {
   "cell_type": "code",
   "execution_count": null,
   "id": "12b060bb-44e1-413f-90bf-416b652e657e",
   "metadata": {},
   "outputs": [],
   "source": [
    "get_signals(Bar)"
   ]
  },
  {
   "cell_type": "code",
   "execution_count": null,
   "id": "5c449a55-a768-4aae-adae-c2aba71032dc",
   "metadata": {},
   "outputs": [],
   "source": [
    "get_signals(bar)"
   ]
  },
  {
   "cell_type": "code",
   "execution_count": null,
   "id": "cc5bc493-8b7e-408b-9b7e-313f9e85bf22",
   "metadata": {},
   "outputs": [],
   "source": [
    "type(QtCore.QMetaEnum)"
   ]
  },
  {
   "cell_type": "code",
   "execution_count": null,
   "id": "e69caad5-8a02-4ef4-a923-8f483b325de1",
   "metadata": {},
   "outputs": [],
   "source": [
    "class Baz2(QtCore.QObject):\n",
    "    totalChanged = QtCore.pyqtSignal(int)\n",
    "    \n",
    "    def __init__(self):\n",
    "        super(Baz2, self).__init__()\n",
    "        self._total = 0\n",
    "\n",
    "    @QtCore.pyqtProperty(int, notify=totalChanged)\n",
    "    def total(self):\n",
    "        return self._total\n",
    "\n",
    "    @total.setter\n",
    "    def total(self, value):\n",
    "        self._total = value"
   ]
  },
  {
   "cell_type": "code",
   "execution_count": null,
   "id": "01097e28-9330-40d7-ac8d-59cc583c9be7",
   "metadata": {},
   "outputs": [],
   "source": [
    "get_signals(Baz2)\n",
    "baz2 = Baz2()\n",
    "spy_on_all_signals(baz2)\n",
    "baz2.total = 5"
   ]
  },
  {
   "cell_type": "code",
   "execution_count": null,
   "id": "fbb98b7d-49dd-4562-ac2f-069493b075c1",
   "metadata": {},
   "outputs": [],
   "source": [
    "baz2.total = 5"
   ]
  },
  {
   "cell_type": "code",
   "execution_count": null,
   "id": "c2dbcd94-b340-4eec-87c9-9e0ac1736c31",
   "metadata": {},
   "outputs": [],
   "source": [
    "class DummySignal():\n",
    "    def __init__(self, type_):\n",
    "        self._type = type_\n",
    "        \n",
    "    def emit(self, val):\n",
    "        print(\"Emitted \", val)\n",
    "        \n",
    "class SignalWrapper():\n",
    "    \"\"\"Descriptor to automatically emit a pyqtSignal (assumed predefined)\n",
    "    on change of a model attribute.\n",
    "    \"\"\"\n",
    "    def __init__(self, name, signal_type=None):\n",
    "        self.__set_name__(None, name)\n",
    "        self.signal_type = signal_type\n",
    "\n",
    "    def __set_name__(self, owner, name):\n",
    "        self.public_name = name\n",
    "        self.private_name = '_' + name\n",
    "        self.signal_name = '_' + name + '_changed'\n",
    "\n",
    "    def __get__(self, obj, objtype=None):\n",
    "        return getattr(obj, self.private_name)\n",
    "\n",
    "    def __set__(self, obj, value):\n",
    "        \"\"\"Emit `signal_name` when value is changed to a new value (only.)\n",
    "        \"\"\"\n",
    "        old_value = getattr(obj, self.private_name)\n",
    "        try:\n",
    "            setattr(obj, self.private_name, value)\n",
    "            if old_value != value:\n",
    "                getattr(obj, self.signal_name).emit(self.signal_type(value))\n",
    "        except ValueError:\n",
    "            # if attrs validation fails, don't emit signal\n",
    "            raise\n",
    "            \n",
    "def combo_enum_factory(enum_name, enum_vals_and_labels):\n",
    "    \"\"\"\n",
    "    \"\"\"\n",
    "    _enum_cls = enum.Enum(enum_name, tuple(enum_vals_and_labels.keys()), start=0)\n",
    "    desc = SignalWrapper(enum_name, signal_type=int)\n",
    "    class cls_():\n",
    "        def __init__(self, val):\n",
    "            super().__init__()\n",
    "            if isinstance(int, val):\n",
    "                self._value = _enum_cls(val)\n",
    "            else:\n",
    "                self._value = _enum_cls[val]\n",
    "    \n",
    "    setattr(cls_, '_model', tuple(enum_vals_and_labels.values()))\n",
    "    setattr(cls_, desc.signal_name, DummySignal(int))\n",
    "    setattr(cls_, 'value', desc)\n",
    "    return cls_"
   ]
  },
  {
   "cell_type": "code",
   "execution_count": null,
   "id": "4dcc25c5-178e-4f81-ba19-681d8a40ccce",
   "metadata": {},
   "outputs": [],
   "source": [
    "Blerg = combo_enum_factory(\"Blerg\", {\"A\": \"A text\", \"B\": \"B text\"})"
   ]
  },
  {
   "cell_type": "code",
   "execution_count": null,
   "id": "95f50dc1-38f6-4cf4-a9c1-e4326be70b6c",
   "metadata": {},
   "outputs": [],
   "source": [
    "bar = Blerg.A"
   ]
  },
  {
   "cell_type": "code",
   "execution_count": null,
   "id": "f207ebab-dc17-4e61-a884-eb911d6e1c19",
   "metadata": {},
   "outputs": [],
   "source": [
    "str(fooE(1))"
   ]
  },
  {
   "cell_type": "code",
   "execution_count": null,
   "id": "724433eb-6498-4907-802c-f7e330b5c19c",
   "metadata": {},
   "outputs": [],
   "source": [
    "bar = Blerg.B"
   ]
  },
  {
   "cell_type": "code",
   "execution_count": null,
   "id": "18e87adb-ef25-4281-af03-3427f569bef4",
   "metadata": {},
   "outputs": [],
   "source": [
    "dir(Blerg)"
   ]
  },
  {
   "cell_type": "code",
   "execution_count": null,
   "id": "0966fe0c-8a76-41ec-8580-dbecf0930967",
   "metadata": {},
   "outputs": [],
   "source": [
    "dir(Blerg)"
   ]
  },
  {
   "cell_type": "code",
   "execution_count": null,
   "id": "a6bfd4a0-3950-498a-b25c-5068ea4f25e7",
   "metadata": {},
   "outputs": [],
   "source": [
    "Blerg.get_item('A')"
   ]
  }
 ],
 "metadata": {
  "kernelspec": {
   "display_name": "comp_chem_2",
   "language": "python",
   "name": "comp_chem_2"
  },
  "language_info": {
   "codemirror_mode": {
    "name": "ipython",
    "version": 3
   },
   "file_extension": ".py",
   "mimetype": "text/x-python",
   "name": "python",
   "nbconvert_exporter": "python",
   "pygments_lexer": "ipython3",
   "version": "3.9.13"
  }
 },
 "nbformat": 4,
 "nbformat_minor": 5
}
